{
 "cells": [
  {
   "cell_type": "markdown",
   "metadata": {},
   "source": [
    "\n",
    "# Training 1D TFNO on Double Well, 2 Param"
   ]
  },
  {
   "cell_type": "markdown",
   "metadata": {},
   "source": [
    "## Load Data"
   ]
  },
  {
   "cell_type": "code",
   "execution_count": 11,
   "metadata": {},
   "outputs": [],
   "source": [
    "import torch\n",
    "import pandas as pd\n",
    "import matplotlib.pyplot as plt\n",
    "import sys\n",
    "import numpy as np\n",
    "from neuralop.models import TFNO, TFNO1d\n",
    "from neuralop import Trainer\n",
    "from neuralop.utils import count_params\n",
    "from neuralop import LpLoss, H1Loss\n",
    "\n",
    "\n",
    "device = 'cpu'"
   ]
  },
  {
   "cell_type": "code",
   "execution_count": 12,
   "metadata": {},
   "outputs": [],
   "source": [
    "# load data\n",
    "data1 = pd.read_csv(\"2paraminputs.csv\", header = None)\n",
    "data2 = pd.read_csv(\"2paramcommittors.csv\", header = None)\n"
   ]
  },
  {
   "cell_type": "code",
   "execution_count": 13,
   "metadata": {},
   "outputs": [
    {
     "data": {
      "image/png": "[encoded data removed]",
      "text/plain": [
       "<Figure size 576x576 with 1 Axes>"
      ]
     },
     "metadata": {
      "needs_background": "light"
     },
     "output_type": "display_data"
    }
   ],
   "source": [
    "plt.rcParams.update({'font.size': 20})\n",
    "plt.rc('xtick', labelsize=14) \n",
    "plt.rc('ytick', labelsize=14) \n",
    "\n",
    "a = .6\n",
    "t = np.linspace(-1, 1, 200)\n",
    "y = np.linspace(-1, 1, 200)\n",
    "for i in range(len(t)):\n",
    "    if t[i] >= a: \n",
    "        t[i] = None\n",
    "    else:\n",
    "        t[i] = (-2 / (a+1)**3)*((t[i]+1)**2)*(t[i]-(3*a+1)/2)\n",
    "for i in range(len(y)):\n",
    "    if y[i] <  a:\n",
    "        y[i] = None\n",
    "    else: \n",
    "        y[i] = (-2 / (a-1)**3)*((y[i]-1)**2)*(y[i]-(3*a-1)/2)\n",
    "fig = plt.figure(figsize=(8, 8))\n",
    "plt.plot(t)\n",
    "plt.plot(y)\n",
    "\n",
    "\n",
    "\n",
    "plt.xticks(np.linspace(0, 200, 6),labels = np.round(np.linspace(-1,1,6),2))\n",
    "plt.savefig(\".6doublewell.pdf\")"
   ]
  },
  {
   "cell_type": "code",
   "execution_count": 14,
   "metadata": {},
   "outputs": [],
   "source": [
    "dfinput = pd.DataFrame.astype(data1, 'float32')\n",
    "dfoutput = pd.DataFrame.astype(data2, 'float32')"
   ]
  },
  {
   "cell_type": "code",
   "execution_count": 15,
   "metadata": {},
   "outputs": [],
   "source": [
    "datainput = pd.DataFrame.to_numpy(dfinput)\n",
    "\n",
    "# datainput = np.transpose(datainput)\n",
    "\n",
    "dataoutput = pd.DataFrame.to_numpy(dfoutput)\n",
    "\n",
    "# dataoutput = np.transpose(dataoutput)"
   ]
  },
  {
   "cell_type": "code",
   "execution_count": 16,
   "metadata": {},
   "outputs": [],
   "source": [
    "order = np.arange(len(datainput))\n",
    "np.random.shuffle(order)\n",
    "\n",
    "datainput = datainput[order]\n",
    "dataoutput= dataoutput[order]"
   ]
  },
  {
   "cell_type": "code",
   "execution_count": 17,
   "metadata": {},
   "outputs": [],
   "source": [
    "ticklist = np.linspace(-1, 1, 4)\n",
    "ticklist = np.round(ticklist, 2)"
   ]
  },
  {
   "cell_type": "code",
   "execution_count": 18,
   "metadata": {},
   "outputs": [
    {
     "data": {
      "text/plain": [
       "1535"
      ]
     },
     "execution_count": 18,
     "metadata": {},
     "output_type": "execute_result"
    }
   ],
   "source": [
    "# split into input/output, test + train\n",
    "\n",
    "samples = len(datainput)\n",
    "\n",
    "n_train = int(np.round(.8*samples))\n",
    "n_test = samples - n_train\n",
    "\n",
    "x_train = datainput[0:n_train,:]\n",
    "x_test = datainput[n_train:samples,:]\n",
    "\n",
    "y_train = dataoutput[0:n_train,:]\n",
    "y_test = dataoutput[n_train:samples,:]\n",
    "\n",
    "x_train = torch.from_numpy(x_train)\n",
    "x_test = torch.from_numpy(x_test)\n",
    "\n",
    "y_train = torch.from_numpy(y_train)\n",
    "y_test = torch.from_numpy(y_test)\n",
    "\n",
    "len(x_train)"
   ]
  },
  {
   "cell_type": "code",
   "execution_count": 19,
   "metadata": {},
   "outputs": [
    {
     "data": {
      "text/plain": [
       "52"
      ]
     },
     "execution_count": 19,
     "metadata": {},
     "output_type": "execute_result"
    }
   ],
   "source": [
    "x_train = x_train[::30]\n",
    "y_train = y_train[::30]\n",
    "# x_test = x_test[::40]\n",
    "# y_test = y_test[::40]\n",
    "len(x_train)"
   ]
  },
  {
   "cell_type": "code",
   "execution_count": 20,
   "metadata": {},
   "outputs": [],
   "source": [
    "trainn = []\n",
    "testt = []\n",
    "\n",
    "# turn into dictionary\n",
    "\n",
    "for i in range(len(x_train)):\n",
    "    trainn.append({\"x\": x_train[i].unsqueeze(0), \"y\": y_train[i].unsqueeze(0)})\n",
    "    \n",
    "\n",
    "for i in range(len(x_test)):\n",
    "    testt.append({\"x\": x_test[i].unsqueeze(0), \"y\": y_test[i].unsqueeze(0)})\n",
    "\n"
   ]
  },
  {
   "cell_type": "code",
   "execution_count": 21,
   "metadata": {},
   "outputs": [],
   "source": [
    "# append grid?\n",
    "\n",
    "s = x_train.size(-1)\n",
    "\n",
    "grid = [-1,1]\n",
    "grid1 = torch.linspace(grid[0], grid[1], s + 1)[0:-1].view(1,-1)\n",
    "grid2 = torch.zeros(1, s)\n",
    "\n",
    "samplegrid = torch.linspace(grid[0], grid[1], s)[0:-1].view(1,-1)\n",
    "\n",
    "count = 0\n",
    "subcount = 0\n",
    "for i in range(s):\n",
    "    if i % 2 == 0: \n",
    "        grid2[:,i] = samplegrid[:, subcount]\n",
    "    else:\n",
    "        grid2[:,i] = samplegrid[:, subcount ]\n",
    "        subcount += 1\n",
    "    \n"
   ]
  },
  {
   "cell_type": "code",
   "execution_count": 22,
   "metadata": {},
   "outputs": [],
   "source": [
    "for i in range(len(trainn)):\n",
    "    trainn[i][\"x\"] = torch.stack([trainn[i][\"x\"], grid1, grid2])\n",
    "#     trainn[i][\"y\"] = trainn[i][\"y\"].unsqueeze(1)\n",
    "\n",
    "\n",
    "    trainn[i][\"x\"] = trainn[i][\"x\"].squeeze()\n",
    "#     trainn[i][\"y\"] = trainn[i][\"y\"].squeeze()\n",
    "\n",
    "    \n",
    "for i in range(len(testt)):\n",
    "    testt[i][\"x\"] = torch.Tensor(torch.stack([testt[i][\"x\"], grid1,grid2]))\n",
    "#     testt[i][\"x\"] = torch.permute(testt[i][\"x\"],  (0,2,1))\n",
    "\n",
    "    \n",
    "#     testt[i][\"y\"] = testt[i][\"y\"].unsqueeze(1)\n",
    "#     testt[i][\"y\"] = torch.permute(testt[i][\"y\"], (0,2,1))\n",
    "\n",
    "\n",
    "    testt[i][\"x\"] = testt[i][\"x\"].squeeze()\n",
    "#     testt[i][\"y\"] = testt[i][\"y\"].squeeze()\n",
    "    \n",
    "\n"
   ]
  },
  {
   "cell_type": "code",
   "execution_count": 23,
   "metadata": {},
   "outputs": [],
   "source": [
    "batch_train = 2\n",
    "batch_test = 1\n",
    "\n",
    "\n",
    "    \n",
    "train_loader = torch.utils.data.DataLoader(trainn, batch_size=batch_train, shuffle=False)\n",
    "test_loader = torch.utils.data.DataLoader(testt, batch_size=batch_test, shuffle=False)"
   ]
  },
  {
   "cell_type": "code",
   "execution_count": 24,
   "metadata": {},
   "outputs": [],
   "source": [
    "# for idx, sample in enumerate(train_loader):\n",
    "#     print(idx)\n",
    "# #     print(\"x\")\n",
    "#     print(sample[\"x\"])\n",
    "#     print(sample[\"x\"].size())\n",
    "#     print(\"y\")\n",
    "#     print(sample[\"y\"])\n",
    "#     print(sample[\"y\"].size())\n",
    "\n",
    "    \n",
    "# # x is double tensor wrapped?    "
   ]
  },
  {
   "cell_type": "markdown",
   "metadata": {},
   "source": [
    "## Create Model"
   ]
  },
  {
   "cell_type": "code",
   "execution_count": 25,
   "metadata": {},
   "outputs": [
    {
     "name": "stdout",
     "output_type": "stream",
     "text": [
      "\n",
      "Our model has 33089 parameters.\n"
     ]
    }
   ],
   "source": [
    "model = TFNO1d(n_modes=(16, 16), hidden_channels=32, projection_channels=64, factorization='tucker', \n",
    "               rank=0.42, n_modes_height = 16)\n",
    "model = model.to(device)\n",
    "\n",
    "n_params = count_params(model)\n",
    "print(f'\\nOur model has {n_params} parameters.')\n",
    "sys.stdout.flush()"
   ]
  },
  {
   "cell_type": "code",
   "execution_count": 15,
   "metadata": {},
   "outputs": [],
   "source": [
    "optimizer = torch.optim.Adam(model.parameters(), \n",
    "                                lr=8e-4, \n",
    "                                weight_decay=1e-4)\n",
    "optimizer2 = torch.optim.SGD(model.parameters(), \n",
    "                             lr = 8e-4, weight_decay = \n",
    "                             1e-5)\n",
    "scheduler = torch.optim.lr_scheduler.CosineAnnealingLR(optimizer, T_max=30)"
   ]
  },
  {
   "cell_type": "code",
   "execution_count": 16,
   "metadata": {},
   "outputs": [],
   "source": [
    "l2loss = LpLoss(d=2, p=2)\n",
    "h1loss = H1Loss(d=2)\n",
    "l1loss = LpLoss(d=2, p=1)\n",
    "\n",
    "train_loss = h1loss\n",
    "eval_losses={'h1': h1loss, 'l2': l2loss, \"l1\": l1loss}"
   ]
  },
  {
   "cell_type": "code",
   "execution_count": 35,
   "metadata": {},
   "outputs": [
    {
     "name": "stdout",
     "output_type": "stream",
     "text": [
      "\n",
      "### MODEL ###\n",
      " TFNO1d(\n",
      "  (fno_blocks): FNOBlocks(\n",
      "    (convs): FactorizedSpectralConv(\n",
      "      (weight): ModuleList(\n",
      "        (0-3): 4 x ComplexTuckerTensor(shape=(32, 32, 8), rank=(20, 20, 5))\n",
      "      )\n",
      "    )\n",
      "    (fno_skips): ModuleList(\n",
      "      (0-3): 4 x Conv1d(32, 32, kernel_size=(1,), stride=(1,), bias=False)\n",
      "    )\n",
      "  )\n",
      "  (lifting): Lifting(\n",
      "    (fc): Conv1d(3, 32, kernel_size=(1,), stride=(1,))\n",
      "  )\n",
      "  (projection): Projection(\n",
      "    (fc1): Conv1d(32, 64, kernel_size=(1,), stride=(1,))\n",
      "    (fc2): Conv1d(64, 1, kernel_size=(1,), stride=(1,))\n",
      "  )\n",
      ")\n",
      "\n",
      "### OPTIMIZER ###\n",
      " Adam (\n",
      "Parameter Group 0\n",
      "    amsgrad: False\n",
      "    betas: (0.9, 0.999)\n",
      "    capturable: False\n",
      "    differentiable: False\n",
      "    eps: 1e-08\n",
      "    foreach: None\n",
      "    fused: None\n",
      "    initial_lr: 0.0008\n",
      "    lr: 0.0008\n",
      "    maximize: False\n",
      "    weight_decay: 0.0001\n",
      ")\n",
      "\n",
      "### SCHEDULER ###\n",
      " <torch.optim.lr_scheduler.CosineAnnealingLR object at 0x000002B9482448B0>\n",
      "\n",
      "### LOSSES ###\n",
      "\n",
      " * Train: <neuralop.training.losses.H1Loss object at 0x000002B9488A9160>\n",
      "\n",
      " * Test: {'h1': <neuralop.training.losses.H1Loss object at 0x000002B9488A9160>, 'l2': <neuralop.training.losses.LpLoss object at 0x000002B948BBD6A0>, 'l1': <neuralop.training.losses.LpLoss object at 0x000002B948BBD6D0>}\n"
     ]
    }
   ],
   "source": [
    "print('\\n### MODEL ###\\n', model)\n",
    "print('\\n### OPTIMIZER ###\\n', optimizer)\n",
    "print('\\n### SCHEDULER ###\\n', scheduler)\n",
    "print('\\n### LOSSES ###')\n",
    "print(f'\\n * Train: {train_loss}')\n",
    "print(f'\\n * Test: {eval_losses}')\n",
    "sys.stdout.flush()"
   ]
  },
  {
   "cell_type": "code",
   "execution_count": 49,
   "metadata": {},
   "outputs": [
    {
     "name": "stdout",
     "output_type": "stream",
     "text": [
      "Training on regular inputs (no multi-grid patching).\n"
     ]
    }
   ],
   "source": [
    "trainer = Trainer(model, n_epochs=1000,\n",
    "                  device=device,\n",
    "                  mg_patching_levels=0,\n",
    "                  wandb_log=False,\n",
    "                  log_test_interval=3,\n",
    "                  use_distributed=False,\n",
    "                  verbose=True)"
   ]
  },
  {
   "cell_type": "code",
   "execution_count": 50,
   "metadata": {},
   "outputs": [],
   "source": [
    "scheduler.load_state_dict(annealing)"
   ]
  },
  {
   "cell_type": "code",
   "execution_count": 51,
   "metadata": {},
   "outputs": [
    {
     "name": "stdout",
     "output_type": "stream",
     "text": [
      "Training on 52 samples\n",
      "Testing on [384] samples         on resolutions ['test'].\n",
      "Training on raw inputs of size x.shape=torch.Size([2, 3, 201]), y.shape=torch.Size([2, 1, 201])\n",
      ".. patched inputs of size x.shape=torch.Size([2, 3, 201]), y.shape=torch.Size([2, 1, 201])\n",
      "Raw outputs of size out.shape=torch.Size([2, 1, 201])\n",
      ".. Processed (unpatched) outputs of size out.shape=torch.Size([2, 1, 201])\n",
      "[0] time=0.43, avg_loss=0.0003, train_err=0.0067, test_h1=0.0087, test_l2=0.0116, test_l1=0.0126\n",
      "[3] time=0.38, avg_loss=0.0004, train_err=0.0079, test_h1=0.0092, test_l2=0.0106, test_l1=0.0114\n",
      "[6] time=0.35, avg_loss=0.0005, train_err=0.0091, test_h1=0.0134, test_l2=0.0187, test_l1=0.0172\n",
      "[9] time=0.35, avg_loss=0.0007, train_err=0.0142, test_h1=0.0164, test_l2=0.0234, test_l1=0.0214\n",
      "[12] time=0.35, avg_loss=0.0008, train_err=0.0157, test_h1=0.0119, test_l2=0.0154, test_l1=0.0155\n",
      "[15] time=0.35, avg_loss=0.0008, train_err=0.0149, test_h1=0.0117, test_l2=0.0162, test_l1=0.0187\n",
      "[18] time=0.45, avg_loss=0.0008, train_err=0.0155, test_h1=0.0149, test_l2=0.0191, test_l1=0.0179\n",
      "[21] time=0.36, avg_loss=0.0009, train_err=0.0174, test_h1=0.0184, test_l2=0.0262, test_l1=0.0240\n",
      "[24] time=0.40, avg_loss=0.0008, train_err=0.0154, test_h1=0.0174, test_l2=0.0238, test_l1=0.0241\n",
      "[27] time=0.35, avg_loss=0.0007, train_err=0.0126, test_h1=0.0124, test_l2=0.0175, test_l1=0.0185\n",
      "[30] time=0.42, avg_loss=0.0006, train_err=0.0121, test_h1=0.0124, test_l2=0.0174, test_l1=0.0176\n",
      "[33] time=0.35, avg_loss=0.0005, train_err=0.0101, test_h1=0.0168, test_l2=0.0246, test_l1=0.0225\n",
      "[36] time=0.36, avg_loss=0.0005, train_err=0.0087, test_h1=0.0096, test_l2=0.0117, test_l1=0.0124\n",
      "[39] time=0.37, avg_loss=0.0004, train_err=0.0071, test_h1=0.0076, test_l2=0.0094, test_l1=0.0100\n",
      "[42] time=0.37, avg_loss=0.0003, train_err=0.0056, test_h1=0.0073, test_l2=0.0086, test_l1=0.0090\n",
      "[45] time=0.35, avg_loss=0.0003, train_err=0.0055, test_h1=0.0073, test_l2=0.0088, test_l1=0.0090\n",
      "[48] time=0.35, avg_loss=0.0003, train_err=0.0051, test_h1=0.0072, test_l2=0.0086, test_l1=0.0088\n",
      "[51] time=0.37, avg_loss=0.0003, train_err=0.0051, test_h1=0.0072, test_l2=0.0086, test_l1=0.0088\n",
      "[54] time=0.36, avg_loss=0.0003, train_err=0.0053, test_h1=0.0073, test_l2=0.0088, test_l1=0.0089\n",
      "[57] time=0.36, avg_loss=0.0003, train_err=0.0054, test_h1=0.0073, test_l2=0.0086, test_l1=0.0088\n",
      "[60] time=0.36, avg_loss=0.0003, train_err=0.0064, test_h1=0.0085, test_l2=0.0110, test_l1=0.0119\n",
      "[63] time=0.35, avg_loss=0.0004, train_err=0.0078, test_h1=0.0103, test_l2=0.0112, test_l1=0.0122\n",
      "[66] time=0.35, avg_loss=0.0004, train_err=0.0087, test_h1=0.0108, test_l2=0.0154, test_l1=0.0147\n",
      "[69] time=0.35, avg_loss=0.0005, train_err=0.0103, test_h1=0.0107, test_l2=0.0154, test_l1=0.0152\n",
      "[72] time=0.34, avg_loss=0.0007, train_err=0.0132, test_h1=0.0136, test_l2=0.0198, test_l1=0.0205\n",
      "[75] time=0.35, avg_loss=0.0008, train_err=0.0155, test_h1=0.0196, test_l2=0.0242, test_l1=0.0253\n",
      "[78] time=0.37, avg_loss=0.0008, train_err=0.0151, test_h1=0.0205, test_l2=0.0183, test_l1=0.0206\n",
      "[81] time=0.37, avg_loss=0.0007, train_err=0.0144, test_h1=0.0107, test_l2=0.0146, test_l1=0.0150\n",
      "[84] time=0.38, avg_loss=0.0007, train_err=0.0142, test_h1=0.0117, test_l2=0.0152, test_l1=0.0166\n",
      "[87] time=0.35, avg_loss=0.0006, train_err=0.0117, test_h1=0.0130, test_l2=0.0163, test_l1=0.0169\n",
      "[90] time=0.35, avg_loss=0.0006, train_err=0.0116, test_h1=0.0143, test_l2=0.0224, test_l1=0.0210\n",
      "[93] time=0.35, avg_loss=0.0005, train_err=0.0098, test_h1=0.0098, test_l2=0.0127, test_l1=0.0129\n",
      "[96] time=0.33, avg_loss=0.0004, train_err=0.0072, test_h1=0.0097, test_l2=0.0128, test_l1=0.0123\n",
      "[99] time=0.36, avg_loss=0.0004, train_err=0.0069, test_h1=0.0076, test_l2=0.0092, test_l1=0.0094\n",
      "[102] time=0.37, avg_loss=0.0003, train_err=0.0059, test_h1=0.0072, test_l2=0.0088, test_l1=0.0091\n",
      "[105] time=0.34, avg_loss=0.0003, train_err=0.0054, test_h1=0.0072, test_l2=0.0088, test_l1=0.0090\n",
      "[108] time=0.33, avg_loss=0.0003, train_err=0.0050, test_h1=0.0070, test_l2=0.0085, test_l1=0.0088\n",
      "[111] time=0.35, avg_loss=0.0003, train_err=0.0050, test_h1=0.0070, test_l2=0.0085, test_l1=0.0088\n",
      "[114] time=0.39, avg_loss=0.0003, train_err=0.0051, test_h1=0.0072, test_l2=0.0087, test_l1=0.0089\n",
      "[117] time=0.34, avg_loss=0.0003, train_err=0.0052, test_h1=0.0071, test_l2=0.0086, test_l1=0.0088\n",
      "[120] time=0.35, avg_loss=0.0003, train_err=0.0063, test_h1=0.0079, test_l2=0.0110, test_l1=0.0118\n",
      "[123] time=0.35, avg_loss=0.0004, train_err=0.0077, test_h1=0.0077, test_l2=0.0096, test_l1=0.0099\n",
      "[126] time=0.37, avg_loss=0.0005, train_err=0.0095, test_h1=0.0104, test_l2=0.0153, test_l1=0.0155\n",
      "[129] time=0.35, avg_loss=0.0006, train_err=0.0107, test_h1=0.0111, test_l2=0.0169, test_l1=0.0186\n",
      "[132] time=0.34, avg_loss=0.0009, train_err=0.0166, test_h1=0.0176, test_l2=0.0243, test_l1=0.0250\n",
      "[135] time=0.35, avg_loss=0.0007, train_err=0.0134, test_h1=0.0153, test_l2=0.0246, test_l1=0.0234\n",
      "[138] time=0.34, avg_loss=0.0007, train_err=0.0134, test_h1=0.0140, test_l2=0.0186, test_l1=0.0197\n",
      "[141] time=0.39, avg_loss=0.0009, train_err=0.0181, test_h1=0.0189, test_l2=0.0176, test_l1=0.0191\n",
      "[144] time=0.36, avg_loss=0.0008, train_err=0.0148, test_h1=0.0150, test_l2=0.0154, test_l1=0.0165\n",
      "[147] time=0.33, avg_loss=0.0006, train_err=0.0113, test_h1=0.0179, test_l2=0.0271, test_l1=0.0283\n",
      "[150] time=0.34, avg_loss=0.0005, train_err=0.0097, test_h1=0.0127, test_l2=0.0195, test_l1=0.0186\n",
      "[153] time=0.34, avg_loss=0.0005, train_err=0.0099, test_h1=0.0127, test_l2=0.0146, test_l1=0.0152\n",
      "[156] time=0.34, avg_loss=0.0004, train_err=0.0086, test_h1=0.0090, test_l2=0.0116, test_l1=0.0124\n",
      "[159] time=0.34, avg_loss=0.0004, train_err=0.0068, test_h1=0.0072, test_l2=0.0091, test_l1=0.0098\n",
      "[162] time=0.36, avg_loss=0.0003, train_err=0.0053, test_h1=0.0071, test_l2=0.0088, test_l1=0.0093\n",
      "[165] time=0.35, avg_loss=0.0003, train_err=0.0051, test_h1=0.0070, test_l2=0.0085, test_l1=0.0088\n",
      "[168] time=0.35, avg_loss=0.0003, train_err=0.0048, test_h1=0.0069, test_l2=0.0083, test_l1=0.0086\n",
      "[171] time=0.34, avg_loss=0.0002, train_err=0.0048, test_h1=0.0069, test_l2=0.0083, test_l1=0.0086\n",
      "[174] time=0.34, avg_loss=0.0003, train_err=0.0050, test_h1=0.0070, test_l2=0.0084, test_l1=0.0087\n",
      "[177] time=0.41, avg_loss=0.0003, train_err=0.0051, test_h1=0.0071, test_l2=0.0085, test_l1=0.0088\n",
      "[180] time=0.37, avg_loss=0.0003, train_err=0.0063, test_h1=0.0080, test_l2=0.0108, test_l1=0.0116\n",
      "[183] time=0.39, avg_loss=0.0004, train_err=0.0074, test_h1=0.0092, test_l2=0.0109, test_l1=0.0118\n",
      "[186] time=0.36, avg_loss=0.0004, train_err=0.0085, test_h1=0.0079, test_l2=0.0104, test_l1=0.0105\n",
      "[189] time=0.35, avg_loss=0.0006, train_err=0.0114, test_h1=0.0128, test_l2=0.0213, test_l1=0.0217\n",
      "[192] time=0.36, avg_loss=0.0009, train_err=0.0167, test_h1=0.0138, test_l2=0.0152, test_l1=0.0155\n",
      "[195] time=0.34, avg_loss=0.0008, train_err=0.0151, test_h1=0.0136, test_l2=0.0188, test_l1=0.0192\n",
      "[198] time=0.36, avg_loss=0.0011, train_err=0.0206, test_h1=0.0153, test_l2=0.0246, test_l1=0.0265\n",
      "[201] time=0.35, avg_loss=0.0006, train_err=0.0116, test_h1=0.0129, test_l2=0.0150, test_l1=0.0155\n",
      "[204] time=0.35, avg_loss=0.0008, train_err=0.0161, test_h1=0.0152, test_l2=0.0146, test_l1=0.0157\n",
      "[207] time=0.34, avg_loss=0.0007, train_err=0.0127, test_h1=0.0155, test_l2=0.0198, test_l1=0.0213\n",
      "[210] time=0.34, avg_loss=0.0007, train_err=0.0143, test_h1=0.0133, test_l2=0.0161, test_l1=0.0174\n",
      "[213] time=0.35, avg_loss=0.0005, train_err=0.0102, test_h1=0.0105, test_l2=0.0135, test_l1=0.0129\n",
      "[216] time=0.34, avg_loss=0.0004, train_err=0.0077, test_h1=0.0082, test_l2=0.0112, test_l1=0.0119\n",
      "[219] time=0.35, avg_loss=0.0003, train_err=0.0063, test_h1=0.0077, test_l2=0.0106, test_l1=0.0114\n",
      "[222] time=0.33, avg_loss=0.0003, train_err=0.0052, test_h1=0.0072, test_l2=0.0089, test_l1=0.0093\n",
      "[225] time=0.35, avg_loss=0.0003, train_err=0.0051, test_h1=0.0070, test_l2=0.0087, test_l1=0.0090\n",
      "[228] time=0.44, avg_loss=0.0002, train_err=0.0048, test_h1=0.0069, test_l2=0.0084, test_l1=0.0087\n",
      "[231] time=0.33, avg_loss=0.0002, train_err=0.0047, test_h1=0.0069, test_l2=0.0084, test_l1=0.0087\n",
      "[234] time=0.35, avg_loss=0.0003, train_err=0.0049, test_h1=0.0070, test_l2=0.0086, test_l1=0.0088\n",
      "[237] time=0.37, avg_loss=0.0003, train_err=0.0050, test_h1=0.0069, test_l2=0.0086, test_l1=0.0088\n",
      "[240] time=0.36, avg_loss=0.0003, train_err=0.0058, test_h1=0.0075, test_l2=0.0104, test_l1=0.0112\n",
      "[243] time=0.35, avg_loss=0.0004, train_err=0.0070, test_h1=0.0083, test_l2=0.0117, test_l1=0.0125\n",
      "[246] time=0.34, avg_loss=0.0005, train_err=0.0090, test_h1=0.0084, test_l2=0.0116, test_l1=0.0124\n",
      "[249] time=0.36, avg_loss=0.0006, train_err=0.0107, test_h1=0.0094, test_l2=0.0116, test_l1=0.0121\n",
      "[252] time=0.35, avg_loss=0.0008, train_err=0.0150, test_h1=0.0221, test_l2=0.0336, test_l1=0.0315\n",
      "[255] time=0.33, avg_loss=0.0007, train_err=0.0141, test_h1=0.0130, test_l2=0.0177, test_l1=0.0167\n",
      "[258] time=0.35, avg_loss=0.0008, train_err=0.0156, test_h1=0.0166, test_l2=0.0243, test_l1=0.0281\n",
      "[261] time=0.34, avg_loss=0.0008, train_err=0.0154, test_h1=0.0149, test_l2=0.0191, test_l1=0.0206\n",
      "[264] time=0.35, avg_loss=0.0007, train_err=0.0130, test_h1=0.0135, test_l2=0.0185, test_l1=0.0191\n",
      "[267] time=0.35, avg_loss=0.0007, train_err=0.0141, test_h1=0.0111, test_l2=0.0153, test_l1=0.0154\n",
      "[270] time=0.38, avg_loss=0.0006, train_err=0.0123, test_h1=0.0120, test_l2=0.0154, test_l1=0.0157\n",
      "[273] time=0.42, avg_loss=0.0006, train_err=0.0108, test_h1=0.0101, test_l2=0.0132, test_l1=0.0139\n",
      "[276] time=0.37, avg_loss=0.0004, train_err=0.0081, test_h1=0.0099, test_l2=0.0126, test_l1=0.0135\n",
      "[279] time=0.34, avg_loss=0.0003, train_err=0.0061, test_h1=0.0074, test_l2=0.0102, test_l1=0.0109\n",
      "[282] time=0.35, avg_loss=0.0003, train_err=0.0052, test_h1=0.0072, test_l2=0.0089, test_l1=0.0092\n",
      "[285] time=0.34, avg_loss=0.0003, train_err=0.0049, test_h1=0.0069, test_l2=0.0088, test_l1=0.0091\n",
      "[288] time=0.36, avg_loss=0.0002, train_err=0.0046, test_h1=0.0068, test_l2=0.0085, test_l1=0.0088\n",
      "[291] time=0.34, avg_loss=0.0002, train_err=0.0046, test_h1=0.0068, test_l2=0.0085, test_l1=0.0088\n",
      "[294] time=0.35, avg_loss=0.0002, train_err=0.0048, test_h1=0.0069, test_l2=0.0086, test_l1=0.0089\n",
      "[297] time=0.35, avg_loss=0.0003, train_err=0.0049, test_h1=0.0070, test_l2=0.0088, test_l1=0.0090\n",
      "[300] time=0.37, avg_loss=0.0003, train_err=0.0060, test_h1=0.0078, test_l2=0.0112, test_l1=0.0119\n",
      "[303] time=0.38, avg_loss=0.0004, train_err=0.0072, test_h1=0.0089, test_l2=0.0127, test_l1=0.0138\n",
      "[306] time=0.35, avg_loss=0.0004, train_err=0.0080, test_h1=0.0107, test_l2=0.0156, test_l1=0.0153\n",
      "[309] time=0.34, avg_loss=0.0005, train_err=0.0091, test_h1=0.0134, test_l2=0.0177, test_l1=0.0174\n",
      "[312] time=0.35, avg_loss=0.0007, train_err=0.0142, test_h1=0.0144, test_l2=0.0185, test_l1=0.0193\n",
      "[315] time=0.34, avg_loss=0.0006, train_err=0.0120, test_h1=0.0166, test_l2=0.0230, test_l1=0.0224\n",
      "[318] time=0.34, avg_loss=0.0006, train_err=0.0120, test_h1=0.0117, test_l2=0.0179, test_l1=0.0183\n",
      "[321] time=0.35, avg_loss=0.0007, train_err=0.0131, test_h1=0.0115, test_l2=0.0170, test_l1=0.0169\n",
      "[324] time=0.36, avg_loss=0.0008, train_err=0.0150, test_h1=0.0106, test_l2=0.0145, test_l1=0.0152\n",
      "[327] time=0.38, avg_loss=0.0006, train_err=0.0119, test_h1=0.0146, test_l2=0.0180, test_l1=0.0194\n",
      "[330] time=0.33, avg_loss=0.0005, train_err=0.0101, test_h1=0.0085, test_l2=0.0103, test_l1=0.0106\n",
      "[333] time=0.35, avg_loss=0.0005, train_err=0.0088, test_h1=0.0085, test_l2=0.0120, test_l1=0.0129\n",
      "[336] time=0.37, avg_loss=0.0004, train_err=0.0074, test_h1=0.0084, test_l2=0.0112, test_l1=0.0114\n",
      "[339] time=0.34, avg_loss=0.0003, train_err=0.0057, test_h1=0.0070, test_l2=0.0094, test_l1=0.0096\n",
      "[342] time=0.35, avg_loss=0.0003, train_err=0.0049, test_h1=0.0066, test_l2=0.0082, test_l1=0.0086\n",
      "[345] time=0.34, avg_loss=0.0002, train_err=0.0046, test_h1=0.0065, test_l2=0.0081, test_l1=0.0084\n",
      "[348] time=0.35, avg_loss=0.0002, train_err=0.0044, test_h1=0.0064, test_l2=0.0079, test_l1=0.0082\n",
      "[351] time=0.35, avg_loss=0.0002, train_err=0.0044, test_h1=0.0064, test_l2=0.0079, test_l1=0.0082\n",
      "[354] time=0.35, avg_loss=0.0002, train_err=0.0045, test_h1=0.0065, test_l2=0.0080, test_l1=0.0083\n",
      "[357] time=0.36, avg_loss=0.0002, train_err=0.0046, test_h1=0.0067, test_l2=0.0084, test_l1=0.0085\n",
      "[360] time=0.37, avg_loss=0.0003, train_err=0.0054, test_h1=0.0074, test_l2=0.0105, test_l1=0.0110\n",
      "[363] time=0.36, avg_loss=0.0004, train_err=0.0068, test_h1=0.0083, test_l2=0.0113, test_l1=0.0122\n",
      "[366] time=0.34, avg_loss=0.0004, train_err=0.0082, test_h1=0.0081, test_l2=0.0118, test_l1=0.0126\n",
      "[369] time=0.41, avg_loss=0.0006, train_err=0.0110, test_h1=0.0128, test_l2=0.0161, test_l1=0.0161\n",
      "[372] time=0.35, avg_loss=0.0005, train_err=0.0104, test_h1=0.0189, test_l2=0.0295, test_l1=0.0278\n",
      "[375] time=0.38, avg_loss=0.0007, train_err=0.0136, test_h1=0.0114, test_l2=0.0129, test_l1=0.0131\n",
      "[378] time=0.46, avg_loss=0.0009, train_err=0.0170, test_h1=0.0242, test_l2=0.0317, test_l1=0.0312\n",
      "[381] time=0.36, avg_loss=0.0008, train_err=0.0145, test_h1=0.0116, test_l2=0.0183, test_l1=0.0202\n",
      "[384] time=0.36, avg_loss=0.0007, train_err=0.0143, test_h1=0.0142, test_l2=0.0223, test_l1=0.0218\n",
      "[387] time=0.35, avg_loss=0.0007, train_err=0.0132, test_h1=0.0135, test_l2=0.0186, test_l1=0.0176\n",
      "[390] time=0.35, avg_loss=0.0008, train_err=0.0160, test_h1=0.0104, test_l2=0.0173, test_l1=0.0194\n",
      "[393] time=0.35, avg_loss=0.0004, train_err=0.0085, test_h1=0.0106, test_l2=0.0152, test_l1=0.0148\n",
      "[396] time=0.37, avg_loss=0.0004, train_err=0.0076, test_h1=0.0075, test_l2=0.0100, test_l1=0.0104\n",
      "[399] time=0.34, avg_loss=0.0003, train_err=0.0064, test_h1=0.0074, test_l2=0.0097, test_l1=0.0098\n",
      "[402] time=0.34, avg_loss=0.0002, train_err=0.0047, test_h1=0.0067, test_l2=0.0084, test_l1=0.0087\n",
      "[405] time=0.35, avg_loss=0.0002, train_err=0.0046, test_h1=0.0064, test_l2=0.0079, test_l1=0.0082\n",
      "[408] time=0.35, avg_loss=0.0002, train_err=0.0044, test_h1=0.0063, test_l2=0.0078, test_l1=0.0081\n",
      "[411] time=0.35, avg_loss=0.0002, train_err=0.0043, test_h1=0.0063, test_l2=0.0078, test_l1=0.0081\n",
      "[414] time=0.34, avg_loss=0.0002, train_err=0.0045, test_h1=0.0065, test_l2=0.0080, test_l1=0.0082\n",
      "[417] time=0.34, avg_loss=0.0002, train_err=0.0045, test_h1=0.0066, test_l2=0.0082, test_l1=0.0084\n",
      "[420] time=0.35, avg_loss=0.0003, train_err=0.0051, test_h1=0.0069, test_l2=0.0088, test_l1=0.0093\n",
      "[423] time=0.35, avg_loss=0.0003, train_err=0.0065, test_h1=0.0078, test_l2=0.0101, test_l1=0.0107\n",
      "[426] time=0.34, avg_loss=0.0004, train_err=0.0077, test_h1=0.0087, test_l2=0.0105, test_l1=0.0110\n",
      "[429] time=0.47, avg_loss=0.0005, train_err=0.0094, test_h1=0.0116, test_l2=0.0159, test_l1=0.0153\n",
      "[432] time=0.35, avg_loss=0.0007, train_err=0.0127, test_h1=0.0101, test_l2=0.0141, test_l1=0.0155\n",
      "[435] time=0.37, avg_loss=0.0009, train_err=0.0177, test_h1=0.0132, test_l2=0.0207, test_l1=0.0222\n",
      "[438] time=0.38, avg_loss=0.0007, train_err=0.0133, test_h1=0.0132, test_l2=0.0178, test_l1=0.0168\n",
      "[441] time=0.35, avg_loss=0.0010, train_err=0.0196, test_h1=0.0162, test_l2=0.0259, test_l1=0.0262\n",
      "[444] time=0.35, avg_loss=0.0008, train_err=0.0147, test_h1=0.0177, test_l2=0.0307, test_l1=0.0313\n",
      "[447] time=0.35, avg_loss=0.0007, train_err=0.0136, test_h1=0.0191, test_l2=0.0252, test_l1=0.0252\n",
      "[450] time=0.34, avg_loss=0.0005, train_err=0.0104, test_h1=0.0114, test_l2=0.0139, test_l1=0.0134\n",
      "[453] time=0.34, avg_loss=0.0009, train_err=0.0165, test_h1=0.0127, test_l2=0.0179, test_l1=0.0191\n",
      "[456] time=0.36, avg_loss=0.0004, train_err=0.0076, test_h1=0.0075, test_l2=0.0097, test_l1=0.0105\n",
      "[459] time=0.40, avg_loss=0.0003, train_err=0.0061, test_h1=0.0072, test_l2=0.0099, test_l1=0.0108\n",
      "[462] time=0.38, avg_loss=0.0003, train_err=0.0052, test_h1=0.0074, test_l2=0.0092, test_l1=0.0095\n",
      "[465] time=0.35, avg_loss=0.0002, train_err=0.0047, test_h1=0.0066, test_l2=0.0084, test_l1=0.0086\n",
      "[468] time=0.36, avg_loss=0.0002, train_err=0.0043, test_h1=0.0064, test_l2=0.0081, test_l1=0.0084\n",
      "[471] time=0.34, avg_loss=0.0002, train_err=0.0043, test_h1=0.0064, test_l2=0.0081, test_l1=0.0084\n",
      "[474] time=0.38, avg_loss=0.0002, train_err=0.0044, test_h1=0.0065, test_l2=0.0082, test_l1=0.0085\n",
      "[477] time=0.39, avg_loss=0.0002, train_err=0.0046, test_h1=0.0067, test_l2=0.0085, test_l1=0.0087\n",
      "[480] time=0.35, avg_loss=0.0003, train_err=0.0052, test_h1=0.0072, test_l2=0.0104, test_l1=0.0110\n",
      "[483] time=0.36, avg_loss=0.0003, train_err=0.0067, test_h1=0.0084, test_l2=0.0119, test_l1=0.0128\n",
      "[486] time=0.37, avg_loss=0.0004, train_err=0.0080, test_h1=0.0083, test_l2=0.0113, test_l1=0.0114\n",
      "[489] time=0.36, avg_loss=0.0005, train_err=0.0097, test_h1=0.0099, test_l2=0.0150, test_l1=0.0157\n",
      "[492] time=0.39, avg_loss=0.0007, train_err=0.0133, test_h1=0.0143, test_l2=0.0214, test_l1=0.0215\n",
      "[495] time=0.39, avg_loss=0.0007, train_err=0.0131, test_h1=0.0120, test_l2=0.0164, test_l1=0.0168\n",
      "[498] time=0.35, avg_loss=0.0010, train_err=0.0199, test_h1=0.0189, test_l2=0.0250, test_l1=0.0280\n",
      "[501] time=0.39, avg_loss=0.0009, train_err=0.0170, test_h1=0.0167, test_l2=0.0256, test_l1=0.0275\n",
      "[504] time=0.36, avg_loss=0.0007, train_err=0.0136, test_h1=0.0168, test_l2=0.0248, test_l1=0.0235\n",
      "[507] time=0.36, avg_loss=0.0007, train_err=0.0141, test_h1=0.0216, test_l2=0.0318, test_l1=0.0271\n",
      "[510] time=0.37, avg_loss=0.0006, train_err=0.0124, test_h1=0.0108, test_l2=0.0155, test_l1=0.0164\n",
      "[513] time=0.40, avg_loss=0.0004, train_err=0.0078, test_h1=0.0091, test_l2=0.0125, test_l1=0.0129\n",
      "[516] time=0.35, avg_loss=0.0003, train_err=0.0066, test_h1=0.0076, test_l2=0.0106, test_l1=0.0110\n",
      "[519] time=0.36, avg_loss=0.0003, train_err=0.0055, test_h1=0.0073, test_l2=0.0105, test_l1=0.0108\n",
      "[522] time=0.34, avg_loss=0.0002, train_err=0.0047, test_h1=0.0069, test_l2=0.0089, test_l1=0.0091\n",
      "[525] time=0.36, avg_loss=0.0002, train_err=0.0046, test_h1=0.0065, test_l2=0.0085, test_l1=0.0088\n",
      "[528] time=0.37, avg_loss=0.0002, train_err=0.0042, test_h1=0.0064, test_l2=0.0082, test_l1=0.0085\n",
      "[531] time=0.35, avg_loss=0.0002, train_err=0.0042, test_h1=0.0064, test_l2=0.0082, test_l1=0.0085\n",
      "[534] time=0.37, avg_loss=0.0002, train_err=0.0044, test_h1=0.0065, test_l2=0.0083, test_l1=0.0086\n",
      "[537] time=0.35, avg_loss=0.0002, train_err=0.0045, test_h1=0.0067, test_l2=0.0086, test_l1=0.0088\n",
      "[540] time=0.35, avg_loss=0.0003, train_err=0.0054, test_h1=0.0073, test_l2=0.0107, test_l1=0.0113\n",
      "[543] time=0.34, avg_loss=0.0003, train_err=0.0062, test_h1=0.0074, test_l2=0.0107, test_l1=0.0115\n",
      "[546] time=0.34, avg_loss=0.0004, train_err=0.0081, test_h1=0.0083, test_l2=0.0130, test_l1=0.0140\n",
      "[549] time=0.35, avg_loss=0.0006, train_err=0.0112, test_h1=0.0125, test_l2=0.0158, test_l1=0.0178\n",
      "[552] time=0.36, avg_loss=0.0005, train_err=0.0103, test_h1=0.0133, test_l2=0.0196, test_l1=0.0184\n",
      "[555] time=0.34, avg_loss=0.0007, train_err=0.0125, test_h1=0.0125, test_l2=0.0176, test_l1=0.0183\n",
      "[558] time=0.33, avg_loss=0.0009, train_err=0.0169, test_h1=0.0228, test_l2=0.0351, test_l1=0.0350\n",
      "[561] time=0.35, avg_loss=0.0009, train_err=0.0169, test_h1=0.0130, test_l2=0.0197, test_l1=0.0213\n",
      "[564] time=0.36, avg_loss=0.0007, train_err=0.0131, test_h1=0.0104, test_l2=0.0166, test_l1=0.0176\n",
      "[567] time=0.34, avg_loss=0.0006, train_err=0.0108, test_h1=0.0117, test_l2=0.0154, test_l1=0.0156\n",
      "[570] time=0.34, avg_loss=0.0005, train_err=0.0099, test_h1=0.0108, test_l2=0.0158, test_l1=0.0160\n",
      "[573] time=0.33, avg_loss=0.0006, train_err=0.0113, test_h1=0.0093, test_l2=0.0114, test_l1=0.0115\n",
      "[576] time=0.38, avg_loss=0.0004, train_err=0.0074, test_h1=0.0104, test_l2=0.0135, test_l1=0.0125\n",
      "[579] time=0.55, avg_loss=0.0003, train_err=0.0063, test_h1=0.0083, test_l2=0.0113, test_l1=0.0116\n",
      "[582] time=0.37, avg_loss=0.0003, train_err=0.0050, test_h1=0.0069, test_l2=0.0091, test_l1=0.0093\n",
      "[585] time=0.37, avg_loss=0.0002, train_err=0.0046, test_h1=0.0065, test_l2=0.0084, test_l1=0.0088\n",
      "[588] time=0.35, avg_loss=0.0002, train_err=0.0041, test_h1=0.0063, test_l2=0.0081, test_l1=0.0084\n",
      "[591] time=0.36, avg_loss=0.0002, train_err=0.0041, test_h1=0.0063, test_l2=0.0081, test_l1=0.0084\n",
      "[594] time=0.34, avg_loss=0.0002, train_err=0.0042, test_h1=0.0064, test_l2=0.0082, test_l1=0.0085\n",
      "[597] time=0.36, avg_loss=0.0002, train_err=0.0043, test_h1=0.0065, test_l2=0.0085, test_l1=0.0087\n",
      "[600] time=0.35, avg_loss=0.0003, train_err=0.0051, test_h1=0.0071, test_l2=0.0106, test_l1=0.0112\n",
      "[603] time=0.33, avg_loss=0.0003, train_err=0.0061, test_h1=0.0074, test_l2=0.0110, test_l1=0.0118\n",
      "[606] time=0.34, avg_loss=0.0005, train_err=0.0087, test_h1=0.0094, test_l2=0.0151, test_l1=0.0163\n",
      "[609] time=0.37, avg_loss=0.0005, train_err=0.0088, test_h1=0.0102, test_l2=0.0138, test_l1=0.0145\n",
      "[612] time=0.35, avg_loss=0.0005, train_err=0.0092, test_h1=0.0118, test_l2=0.0172, test_l1=0.0168\n",
      "[615] time=0.34, avg_loss=0.0006, train_err=0.0111, test_h1=0.0108, test_l2=0.0158, test_l1=0.0165\n",
      "[618] time=0.34, avg_loss=0.0007, train_err=0.0136, test_h1=0.0156, test_l2=0.0227, test_l1=0.0214\n",
      "[621] time=0.37, avg_loss=0.0008, train_err=0.0157, test_h1=0.0227, test_l2=0.0291, test_l1=0.0309\n",
      "[624] time=0.34, avg_loss=0.0008, train_err=0.0153, test_h1=0.0158, test_l2=0.0253, test_l1=0.0269\n",
      "[627] time=0.44, avg_loss=0.0008, train_err=0.0150, test_h1=0.0135, test_l2=0.0219, test_l1=0.0221\n",
      "[630] time=0.35, avg_loss=0.0004, train_err=0.0086, test_h1=0.0092, test_l2=0.0125, test_l1=0.0122\n",
      "[633] time=0.39, avg_loss=0.0005, train_err=0.0088, test_h1=0.0078, test_l2=0.0107, test_l1=0.0112\n",
      "[636] time=0.35, avg_loss=0.0004, train_err=0.0072, test_h1=0.0079, test_l2=0.0116, test_l1=0.0120\n",
      "[639] time=0.34, avg_loss=0.0003, train_err=0.0052, test_h1=0.0074, test_l2=0.0113, test_l1=0.0115\n",
      "[642] time=0.33, avg_loss=0.0002, train_err=0.0044, test_h1=0.0066, test_l2=0.0085, test_l1=0.0089\n",
      "[645] time=0.39, avg_loss=0.0002, train_err=0.0042, test_h1=0.0062, test_l2=0.0082, test_l1=0.0086\n",
      "[648] time=0.40, avg_loss=0.0002, train_err=0.0039, test_h1=0.0061, test_l2=0.0080, test_l1=0.0084\n",
      "[651] time=0.39, avg_loss=0.0002, train_err=0.0039, test_h1=0.0061, test_l2=0.0080, test_l1=0.0084\n",
      "[654] time=0.36, avg_loss=0.0002, train_err=0.0040, test_h1=0.0062, test_l2=0.0080, test_l1=0.0084\n",
      "[657] time=0.35, avg_loss=0.0002, train_err=0.0042, test_h1=0.0065, test_l2=0.0086, test_l1=0.0088\n",
      "[660] time=0.34, avg_loss=0.0003, train_err=0.0052, test_h1=0.0072, test_l2=0.0111, test_l1=0.0116\n",
      "[663] time=0.36, avg_loss=0.0003, train_err=0.0060, test_h1=0.0086, test_l2=0.0126, test_l1=0.0125\n",
      "[666] time=0.36, avg_loss=0.0005, train_err=0.0090, test_h1=0.0092, test_l2=0.0123, test_l1=0.0125\n",
      "[669] time=0.34, avg_loss=0.0006, train_err=0.0111, test_h1=0.0111, test_l2=0.0151, test_l1=0.0151\n",
      "[672] time=0.34, avg_loss=0.0006, train_err=0.0108, test_h1=0.0124, test_l2=0.0193, test_l1=0.0178\n",
      "[675] time=0.35, avg_loss=0.0007, train_err=0.0142, test_h1=0.0123, test_l2=0.0166, test_l1=0.0174\n",
      "[678] time=0.34, avg_loss=0.0007, train_err=0.0141, test_h1=0.0150, test_l2=0.0228, test_l1=0.0222\n",
      "[681] time=0.34, avg_loss=0.0009, train_err=0.0171, test_h1=0.0151, test_l2=0.0211, test_l1=0.0208\n",
      "[684] time=0.36, avg_loss=0.0008, train_err=0.0145, test_h1=0.0124, test_l2=0.0175, test_l1=0.0189\n",
      "[687] time=0.35, avg_loss=0.0007, train_err=0.0137, test_h1=0.0100, test_l2=0.0123, test_l1=0.0129\n",
      "[690] time=0.39, avg_loss=0.0005, train_err=0.0097, test_h1=0.0095, test_l2=0.0130, test_l1=0.0142\n",
      "[693] time=0.35, avg_loss=0.0005, train_err=0.0095, test_h1=0.0097, test_l2=0.0134, test_l1=0.0132\n",
      "[696] time=0.35, avg_loss=0.0004, train_err=0.0072, test_h1=0.0078, test_l2=0.0104, test_l1=0.0104\n",
      "[699] time=0.35, avg_loss=0.0003, train_err=0.0049, test_h1=0.0069, test_l2=0.0099, test_l1=0.0101\n",
      "[702] time=0.36, avg_loss=0.0002, train_err=0.0044, test_h1=0.0064, test_l2=0.0082, test_l1=0.0086\n",
      "[705] time=0.36, avg_loss=0.0002, train_err=0.0042, test_h1=0.0061, test_l2=0.0080, test_l1=0.0084\n",
      "[708] time=0.34, avg_loss=0.0002, train_err=0.0039, test_h1=0.0060, test_l2=0.0078, test_l1=0.0082\n",
      "[711] time=0.34, avg_loss=0.0002, train_err=0.0038, test_h1=0.0060, test_l2=0.0078, test_l1=0.0082\n",
      "[714] time=0.35, avg_loss=0.0002, train_err=0.0040, test_h1=0.0061, test_l2=0.0079, test_l1=0.0083\n",
      "[717] time=0.39, avg_loss=0.0002, train_err=0.0042, test_h1=0.0064, test_l2=0.0083, test_l1=0.0086\n",
      "[720] time=0.39, avg_loss=0.0003, train_err=0.0050, test_h1=0.0070, test_l2=0.0106, test_l1=0.0112\n",
      "[723] time=0.32, avg_loss=0.0003, train_err=0.0063, test_h1=0.0084, test_l2=0.0113, test_l1=0.0118\n",
      "[726] time=0.34, avg_loss=0.0005, train_err=0.0095, test_h1=0.0087, test_l2=0.0126, test_l1=0.0140\n",
      "[729] time=0.37, avg_loss=0.0005, train_err=0.0105, test_h1=0.0082, test_l2=0.0118, test_l1=0.0128\n",
      "[732] time=0.35, avg_loss=0.0005, train_err=0.0102, test_h1=0.0102, test_l2=0.0139, test_l1=0.0153\n",
      "[735] time=0.36, avg_loss=0.0007, train_err=0.0134, test_h1=0.0143, test_l2=0.0200, test_l1=0.0215\n",
      "[738] time=0.33, avg_loss=0.0008, train_err=0.0160, test_h1=0.0169, test_l2=0.0302, test_l1=0.0333\n",
      "[741] time=0.38, avg_loss=0.0008, train_err=0.0147, test_h1=0.0208, test_l2=0.0296, test_l1=0.0259\n",
      "[744] time=0.34, avg_loss=0.0007, train_err=0.0139, test_h1=0.0229, test_l2=0.0342, test_l1=0.0288\n",
      "[747] time=0.33, avg_loss=0.0006, train_err=0.0123, test_h1=0.0106, test_l2=0.0143, test_l1=0.0152\n",
      "[750] time=0.43, avg_loss=0.0007, train_err=0.0134, test_h1=0.0119, test_l2=0.0172, test_l1=0.0186\n",
      "[753] time=0.36, avg_loss=0.0004, train_err=0.0075, test_h1=0.0070, test_l2=0.0095, test_l1=0.0099\n",
      "[756] time=0.35, avg_loss=0.0003, train_err=0.0061, test_h1=0.0072, test_l2=0.0099, test_l1=0.0102\n",
      "[759] time=0.35, avg_loss=0.0003, train_err=0.0057, test_h1=0.0073, test_l2=0.0099, test_l1=0.0098\n",
      "[762] time=0.34, avg_loss=0.0002, train_err=0.0045, test_h1=0.0065, test_l2=0.0086, test_l1=0.0089\n",
      "[765] time=0.34, avg_loss=0.0002, train_err=0.0041, test_h1=0.0062, test_l2=0.0082, test_l1=0.0086\n",
      "[768] time=0.35, avg_loss=0.0002, train_err=0.0038, test_h1=0.0060, test_l2=0.0078, test_l1=0.0082\n",
      "[771] time=0.33, avg_loss=0.0002, train_err=0.0038, test_h1=0.0060, test_l2=0.0078, test_l1=0.0082\n",
      "[774] time=0.41, avg_loss=0.0002, train_err=0.0039, test_h1=0.0061, test_l2=0.0078, test_l1=0.0082\n",
      "[777] time=0.35, avg_loss=0.0002, train_err=0.0040, test_h1=0.0064, test_l2=0.0084, test_l1=0.0086\n",
      "[780] time=0.36, avg_loss=0.0002, train_err=0.0046, test_h1=0.0068, test_l2=0.0099, test_l1=0.0104\n",
      "[783] time=0.33, avg_loss=0.0003, train_err=0.0059, test_h1=0.0083, test_l2=0.0109, test_l1=0.0117\n",
      "[786] time=0.34, avg_loss=0.0005, train_err=0.0089, test_h1=0.0121, test_l2=0.0133, test_l1=0.0143\n",
      "[789] time=0.34, avg_loss=0.0006, train_err=0.0107, test_h1=0.0083, test_l2=0.0102, test_l1=0.0109\n",
      "[792] time=0.33, avg_loss=0.0007, train_err=0.0128, test_h1=0.0117, test_l2=0.0179, test_l1=0.0196\n",
      "[795] time=0.34, avg_loss=0.0006, train_err=0.0120, test_h1=0.0090, test_l2=0.0116, test_l1=0.0121\n",
      "[798] time=0.36, avg_loss=0.0007, train_err=0.0141, test_h1=0.0143, test_l2=0.0204, test_l1=0.0215\n",
      "[801] time=0.35, avg_loss=0.0009, train_err=0.0171, test_h1=0.0153, test_l2=0.0256, test_l1=0.0252\n",
      "[804] time=0.35, avg_loss=0.0006, train_err=0.0115, test_h1=0.0172, test_l2=0.0278, test_l1=0.0253\n",
      "[807] time=0.32, avg_loss=0.0006, train_err=0.0117, test_h1=0.0168, test_l2=0.0220, test_l1=0.0207\n",
      "[810] time=0.34, avg_loss=0.0005, train_err=0.0103, test_h1=0.0092, test_l2=0.0117, test_l1=0.0126\n",
      "[813] time=0.35, avg_loss=0.0005, train_err=0.0099, test_h1=0.0104, test_l2=0.0145, test_l1=0.0146\n",
      "[816] time=0.33, avg_loss=0.0004, train_err=0.0082, test_h1=0.0091, test_l2=0.0150, test_l1=0.0159\n",
      "[819] time=0.36, avg_loss=0.0003, train_err=0.0050, test_h1=0.0069, test_l2=0.0102, test_l1=0.0106\n",
      "[822] time=0.35, avg_loss=0.0002, train_err=0.0044, test_h1=0.0069, test_l2=0.0090, test_l1=0.0094\n",
      "[825] time=0.35, avg_loss=0.0002, train_err=0.0043, test_h1=0.0063, test_l2=0.0084, test_l1=0.0088\n",
      "[828] time=0.35, avg_loss=0.0002, train_err=0.0038, test_h1=0.0061, test_l2=0.0081, test_l1=0.0085\n",
      "[831] time=0.34, avg_loss=0.0002, train_err=0.0038, test_h1=0.0061, test_l2=0.0081, test_l1=0.0085\n",
      "[834] time=0.36, avg_loss=0.0002, train_err=0.0039, test_h1=0.0061, test_l2=0.0081, test_l1=0.0085\n",
      "[837] time=0.36, avg_loss=0.0002, train_err=0.0042, test_h1=0.0065, test_l2=0.0087, test_l1=0.0090\n",
      "[840] time=0.39, avg_loss=0.0003, train_err=0.0052, test_h1=0.0072, test_l2=0.0110, test_l1=0.0113\n",
      "[843] time=0.34, avg_loss=0.0003, train_err=0.0057, test_h1=0.0069, test_l2=0.0099, test_l1=0.0105\n",
      "[846] time=0.34, avg_loss=0.0004, train_err=0.0076, test_h1=0.0085, test_l2=0.0134, test_l1=0.0142\n",
      "[849] time=0.35, avg_loss=0.0005, train_err=0.0089, test_h1=0.0101, test_l2=0.0143, test_l1=0.0148\n",
      "[852] time=0.36, avg_loss=0.0009, train_err=0.0168, test_h1=0.0140, test_l2=0.0230, test_l1=0.0249\n",
      "[855] time=0.37, avg_loss=0.0006, train_err=0.0123, test_h1=0.0133, test_l2=0.0145, test_l1=0.0151\n",
      "[858] time=0.34, avg_loss=0.0008, train_err=0.0161, test_h1=0.0129, test_l2=0.0175, test_l1=0.0179\n",
      "[861] time=0.35, avg_loss=0.0008, train_err=0.0151, test_h1=0.0133, test_l2=0.0199, test_l1=0.0195\n",
      "[864] time=0.34, avg_loss=0.0007, train_err=0.0135, test_h1=0.0125, test_l2=0.0144, test_l1=0.0142\n",
      "[867] time=0.37, avg_loss=0.0006, train_err=0.0106, test_h1=0.0092, test_l2=0.0129, test_l1=0.0133\n",
      "[870] time=0.45, avg_loss=0.0004, train_err=0.0083, test_h1=0.0080, test_l2=0.0127, test_l1=0.0152\n",
      "[873] time=0.35, avg_loss=0.0004, train_err=0.0086, test_h1=0.0085, test_l2=0.0121, test_l1=0.0117\n",
      "[876] time=0.40, avg_loss=0.0003, train_err=0.0063, test_h1=0.0072, test_l2=0.0097, test_l1=0.0097\n",
      "[879] time=0.33, avg_loss=0.0002, train_err=0.0045, test_h1=0.0067, test_l2=0.0097, test_l1=0.0099\n",
      "[882] time=0.36, avg_loss=0.0002, train_err=0.0041, test_h1=0.0063, test_l2=0.0085, test_l1=0.0087\n",
      "[885] time=0.36, avg_loss=0.0002, train_err=0.0039, test_h1=0.0059, test_l2=0.0079, test_l1=0.0083\n",
      "[888] time=0.34, avg_loss=0.0002, train_err=0.0037, test_h1=0.0059, test_l2=0.0077, test_l1=0.0081\n",
      "[891] time=0.38, avg_loss=0.0002, train_err=0.0036, test_h1=0.0059, test_l2=0.0077, test_l1=0.0081\n",
      "[894] time=0.34, avg_loss=0.0002, train_err=0.0037, test_h1=0.0059, test_l2=0.0078, test_l1=0.0081\n",
      "[897] time=0.36, avg_loss=0.0002, train_err=0.0039, test_h1=0.0063, test_l2=0.0082, test_l1=0.0085\n",
      "[900] time=0.34, avg_loss=0.0002, train_err=0.0044, test_h1=0.0066, test_l2=0.0099, test_l1=0.0103\n",
      "[903] time=0.35, avg_loss=0.0003, train_err=0.0058, test_h1=0.0077, test_l2=0.0117, test_l1=0.0122\n",
      "[906] time=0.33, avg_loss=0.0005, train_err=0.0090, test_h1=0.0090, test_l2=0.0133, test_l1=0.0133\n",
      "[909] time=0.34, avg_loss=0.0005, train_err=0.0095, test_h1=0.0098, test_l2=0.0171, test_l1=0.0179\n",
      "[912] time=0.35, avg_loss=0.0006, train_err=0.0114, test_h1=0.0108, test_l2=0.0141, test_l1=0.0145\n",
      "[915] time=0.35, avg_loss=0.0006, train_err=0.0114, test_h1=0.0091, test_l2=0.0121, test_l1=0.0122\n",
      "[918] time=0.45, avg_loss=0.0006, train_err=0.0114, test_h1=0.0110, test_l2=0.0115, test_l1=0.0126\n",
      "[921] time=0.35, avg_loss=0.0007, train_err=0.0125, test_h1=0.0191, test_l2=0.0177, test_l1=0.0191\n",
      "[924] time=0.37, avg_loss=0.0006, train_err=0.0118, test_h1=0.0110, test_l2=0.0156, test_l1=0.0157\n",
      "[927] time=0.37, avg_loss=0.0007, train_err=0.0134, test_h1=0.0087, test_l2=0.0113, test_l1=0.0117\n",
      "[930] time=0.34, avg_loss=0.0006, train_err=0.0123, test_h1=0.0104, test_l2=0.0140, test_l1=0.0128\n",
      "[933] time=0.34, avg_loss=0.0005, train_err=0.0100, test_h1=0.0096, test_l2=0.0141, test_l1=0.0137\n",
      "[936] time=0.36, avg_loss=0.0003, train_err=0.0061, test_h1=0.0076, test_l2=0.0106, test_l1=0.0110\n",
      "[939] time=0.37, avg_loss=0.0003, train_err=0.0064, test_h1=0.0087, test_l2=0.0111, test_l1=0.0118\n",
      "[942] time=0.36, avg_loss=0.0002, train_err=0.0044, test_h1=0.0062, test_l2=0.0085, test_l1=0.0089\n",
      "[945] time=0.35, avg_loss=0.0002, train_err=0.0040, test_h1=0.0060, test_l2=0.0081, test_l1=0.0085\n",
      "[948] time=0.33, avg_loss=0.0002, train_err=0.0037, test_h1=0.0059, test_l2=0.0079, test_l1=0.0083\n",
      "[951] time=0.38, avg_loss=0.0002, train_err=0.0036, test_h1=0.0059, test_l2=0.0079, test_l1=0.0083\n",
      "[954] time=0.39, avg_loss=0.0002, train_err=0.0037, test_h1=0.0060, test_l2=0.0079, test_l1=0.0083\n",
      "[957] time=0.38, avg_loss=0.0002, train_err=0.0040, test_h1=0.0062, test_l2=0.0083, test_l1=0.0086\n",
      "[960] time=0.46, avg_loss=0.0003, train_err=0.0049, test_h1=0.0068, test_l2=0.0104, test_l1=0.0110\n",
      "[963] time=0.37, avg_loss=0.0003, train_err=0.0064, test_h1=0.0075, test_l2=0.0113, test_l1=0.0117\n",
      "[966] time=0.35, avg_loss=0.0005, train_err=0.0097, test_h1=0.0103, test_l2=0.0139, test_l1=0.0143\n",
      "[969] time=0.34, avg_loss=0.0004, train_err=0.0083, test_h1=0.0079, test_l2=0.0098, test_l1=0.0103\n",
      "[972] time=0.37, avg_loss=0.0007, train_err=0.0138, test_h1=0.0108, test_l2=0.0175, test_l1=0.0203\n",
      "[975] time=0.35, avg_loss=0.0006, train_err=0.0125, test_h1=0.0106, test_l2=0.0134, test_l1=0.0142\n",
      "[978] time=0.34, avg_loss=0.0007, train_err=0.0135, test_h1=0.0113, test_l2=0.0154, test_l1=0.0167\n",
      "[981] time=0.33, avg_loss=0.0006, train_err=0.0107, test_h1=0.0122, test_l2=0.0167, test_l1=0.0154\n",
      "[984] time=0.42, avg_loss=0.0007, train_err=0.0142, test_h1=0.0155, test_l2=0.0208, test_l1=0.0212\n",
      "[987] time=0.47, avg_loss=0.0007, train_err=0.0128, test_h1=0.0156, test_l2=0.0255, test_l1=0.0251\n",
      "[990] time=0.38, avg_loss=0.0006, train_err=0.0124, test_h1=0.0107, test_l2=0.0143, test_l1=0.0145\n",
      "[993] time=0.39, avg_loss=0.0004, train_err=0.0079, test_h1=0.0079, test_l2=0.0108, test_l1=0.0108\n",
      "[996] time=0.38, avg_loss=0.0003, train_err=0.0060, test_h1=0.0070, test_l2=0.0093, test_l1=0.0097\n",
      "[999] time=0.36, avg_loss=0.0003, train_err=0.0051, test_h1=0.0070, test_l2=0.0095, test_l1=0.0096\n"
     ]
    }
   ],
   "source": [
    "trainer.train(train_loader, test_loader,\n",
    "              None,\n",
    "              model, \n",
    "              optimizer,\n",
    "              scheduler, \n",
    "              regularizer=False, \n",
    "              training_loss=train_loss,\n",
    "              eval_losses=eval_losses)"
   ]
  },
  {
   "cell_type": "code",
   "execution_count": 52,
   "metadata": {},
   "outputs": [],
   "source": [
    "annealing = scheduler.state_dict()"
   ]
  },
  {
   "cell_type": "code",
   "execution_count": 31,
   "metadata": {},
   "outputs": [
    {
     "data": {
      "text/plain": [
       "<All keys matched successfully>"
      ]
     },
     "execution_count": 31,
     "metadata": {},
     "output_type": "execute_result"
    }
   ],
   "source": [
    "#torch.save(model.state_dict(), '2000epochs2param.txt')\n",
    "model.load_state_dict(torch.load('500epochs2param.txt'))\n"
   ]
  },
  {
   "cell_type": "markdown",
   "metadata": {},
   "source": []
  },
  {
   "cell_type": "markdown",
   "metadata": {},
   "source": [
    "## Evaluate model"
   ]
  },
  {
   "cell_type": "code",
   "execution_count": 27,
   "metadata": {},
   "outputs": [],
   "source": [
    "def MAE2(target,output):\n",
    "    # for numpy simple calculations\n",
    "    x = torch.Tensor(output)\n",
    "    y = torch.Tensor(target)\n",
    "    error = torch.squeeze(torch.abs(x - y))*(1/x.size(0))\n",
    "    error = torch.sum(error)\n",
    "                          \n",
    "    return error\n",
    "\n",
    "def l2(target, output): \n",
    "    x = torch.Tensor(output)\n",
    "    y = torch.Tensor(target)\n",
    "    error = torch.squeeze(torch.square(x - y))*(1/x.size(0))\n",
    "    error = torch.sum(error)\n",
    "                          \n",
    "    return error"
   ]
  },
  {
   "cell_type": "code",
   "execution_count": 32,
   "metadata": {},
   "outputs": [
    {
     "name": "stdout",
     "output_type": "stream",
     "text": [
      "tensor(0.0082)\n",
      "tensor(0.0005)\n"
     ]
    }
   ],
   "source": [
    "MAE2error = 0\n",
    "l2error = 0\n",
    "test_samples = test_loader.dataset\n",
    "for data in test_samples: \n",
    "    x = data['x']\n",
    "    y = data['y']\n",
    "\n",
    "    out = model(x.unsqueeze(0))\n",
    "    \n",
    "    out = out.detach().numpy()[0][0]\n",
    "\n",
    "    out = np.reshape(out, -1)\n",
    "\n",
    "    y = y.detach().numpy()\n",
    "    y = np.reshape(y, -1)\n",
    "\n",
    "\n",
    "    MAE2error += MAE2(out, y)\n",
    "    l2error = l2(out, y)\n",
    "\n",
    "\n",
    "MAE2error = MAE2error / 384\n",
    "l2error = l2error / 384\n",
    "\n",
    "print(MAE2error)\n",
    "print(np.sqrt(l2error))\n"
   ]
  },
  {
   "cell_type": "code",
   "execution_count": 40,
   "metadata": {
    "scrolled": true
   },
   "outputs": [
    {
     "data": {
      "image/png": "[encoded data removed]",
      "text/plain": [
       "<Figure size 864x864 with 2 Axes>"
      ]
     },
     "metadata": {
      "needs_background": "light"
     },
     "output_type": "display_data"
    }
   ],
   "source": [
    "test_samples = test_loader.dataset\n",
    "\n",
    "ticklist = np.linspace(-1, 1, 4)\n",
    "ticklist = np.round(ticklist, 2)\n",
    "plt.rcParams.update({'font.size': 20})\n",
    "plt.rc('xtick', labelsize=14) \n",
    "plt.rc('ytick', labelsize=14) \n",
    "fig = plt.figure(figsize=(12, 12))\n",
    "\n",
    "for index in range(1):\n",
    "    data = test_samples[12]\n",
    "    # Input x\n",
    "    x = data['x']\n",
    "    # Ground-truth\n",
    "    y = data['y']\n",
    "    # Model prediction\n",
    "    out = model(x.unsqueeze(0))\n",
    "\n",
    "    ax = fig.add_subplot(3, 3, 3*index+1)\n",
    "    plt.plot(x[0])\n",
    "    ax.set_title('Input beta')\n",
    "    plt.xticks(np.linspace(0, 200, 4),labels = ticklist)\n",
    "    \n",
    "    ax = fig.add_subplot(3, 3, index*3+2)\n",
    "    plt.plot(y.squeeze())\n",
    "    plt.plot(out.squeeze().detach().numpy())\n",
    "    plt.plot(out.squeeze().detach().numpy())\n",
    "    ax.set_title('Committors')\n",
    "    plt.xticks(np.linspace(0, 200, 4),labels = ticklist)\n",
    "\n",
    "# fig.suptitle('Inputs, ground-truth output and prediction.', y=0.98)\n",
    "plt.tight_layout()\n",
    "\n",
    "\n"
   ]
  }
 ],
 "metadata": {
  "kernelspec": {
   "display_name": "Python 3 (ipykernel)",
   "language": "python",
   "name": "python3"
  },
  "language_info": {
   "codemirror_mode": {
    "name": "ipython",
    "version": 3
   },
   "file_extension": ".py",
   "mimetype": "text/x-python",
   "name": "python",
   "nbconvert_exporter": "python",
   "pygments_lexer": "ipython3",
   "version": "3.9.7"
  }
 },
 "nbformat": 4,
 "nbformat_minor": 1
}
