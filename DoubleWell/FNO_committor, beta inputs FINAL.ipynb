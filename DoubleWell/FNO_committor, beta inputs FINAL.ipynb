{
 "cells": [
  {
   "cell_type": "markdown",
   "metadata": {},
   "source": [
    "\n",
    "# Training 1D TFNO on Double-Well Potential"
   ]
  },
  {
   "cell_type": "code",
   "execution_count": 1,
   "metadata": {},
   "outputs": [],
   "source": [
    "import torch\n",
    "import pandas as pd\n",
    "import matplotlib.pyplot as plt\n",
    "import sys\n",
    "import numpy as np\n",
    "from neuralop.models import TFNO, TFNO1d\n",
    "from neuralop import Trainer\n",
    "from neuralop.utils import count_params\n",
    "from neuralop import LpLoss, H1Loss\n",
    "device = 'cpu'"
   ]
  },
  {
   "cell_type": "code",
   "execution_count": 2,
   "metadata": {},
   "outputs": [],
   "source": [
    "# load data\n",
    "dfinput = pd.read_csv(\"betasdoublewell.csv\", header = None)\n",
    "dfoutput = pd.read_csv(\"doublewellcommittors.csv\", header = None)"
   ]
  },
  {
   "cell_type": "code",
   "execution_count": 3,
   "metadata": {},
   "outputs": [],
   "source": [
    "dfinput = pd.DataFrame.astype(dfinput, 'float32')\n",
    "dfoutput = pd.DataFrame.astype(dfoutput, 'float32')\n"
   ]
  },
  {
   "cell_type": "code",
   "execution_count": 4,
   "metadata": {},
   "outputs": [],
   "source": [
    "ticklist = np.linspace(-1, 1, 4)\n",
    "ticklist = np.round(ticklist, 2)"
   ]
  },
  {
   "cell_type": "code",
   "execution_count": 5,
   "metadata": {},
   "outputs": [
    {
     "ename": "SyntaxError",
     "evalue": "EOL while scanning string literal (Temp/ipykernel_3708/2278047266.py, line 9)",
     "output_type": "error",
     "traceback": [
      "\u001b[1;36m  File \u001b[1;32m\"C:\\Users\\willi\\AppData\\Local\\Temp/ipykernel_3708/2278047266.py\"\u001b[1;36m, line \u001b[1;32m9\u001b[0m\n\u001b[1;33m    plt.savefig(\"doublwell\".pdf\")\u001b[0m\n\u001b[1;37m                                 ^\u001b[0m\n\u001b[1;31mSyntaxError\u001b[0m\u001b[1;31m:\u001b[0m EOL while scanning string literal\n"
     ]
    }
   ],
   "source": [
    "t = np.linspace(-1, 1, 200)\n",
    "for i in range(len(t)):\n",
    "    t[i] = (t[i]**2-1)**2\n",
    "\n",
    "fig = plt.figure(figsize=(12, 12))\n",
    "plt.plot(t)\n",
    "plt.title('Sigmoid input', fontsize = 16)\n",
    "plt.xticks(np.linspace(0, 200, 4),labels = ticklist)\n",
    "plt.savefig(\"doublwell\".pdf\")\n",
    "\n"
   ]
  },
  {
   "cell_type": "code",
   "execution_count": 6,
   "metadata": {},
   "outputs": [],
   "source": [
    "datainput = pd.DataFrame.to_numpy(dfinput)\n",
    "\n",
    "# datainput = np.transpose(datainput)\n",
    "\n",
    "dataoutput = pd.DataFrame.to_numpy(dfoutput)\n",
    "\n",
    "# dataoutput = np.transpose(dataoutput)\n",
    "\n"
   ]
  },
  {
   "cell_type": "code",
   "execution_count": 7,
   "metadata": {},
   "outputs": [],
   "source": [
    "order = np.arange(len(datainput))\n",
    "np.random.shuffle(order)\n",
    "\n",
    "datainput = datainput[order]\n",
    "dataoutput= dataoutput[order]\n",
    "    \n",
    "\n",
    "\n"
   ]
  },
  {
   "cell_type": "code",
   "execution_count": null,
   "metadata": {},
   "outputs": [],
   "source": []
  },
  {
   "cell_type": "code",
   "execution_count": 8,
   "metadata": {},
   "outputs": [],
   "source": [
    "i = 300"
   ]
  },
  {
   "cell_type": "code",
   "execution_count": 9,
   "metadata": {},
   "outputs": [],
   "source": [
    "# split into input/output, test + train\n",
    "\n",
    "samples = len(datainput)\n",
    "\n",
    "n_train = 800\n",
    "n_test = samples - n_train\n",
    "\n",
    "x_train = datainput[0:n_train,:]\n",
    "x_test = datainput[n_train:samples,:]\n",
    "\n",
    "y_train = dataoutput[0:n_train,:]\n",
    "y_test = dataoutput[n_train:samples,:]\n",
    "\n",
    "x_train = torch.from_numpy(x_train)\n",
    "x_test = torch.from_numpy(x_test)\n",
    "\n",
    "y_train = torch.from_numpy(y_train)\n",
    "y_test = torch.from_numpy(y_test)"
   ]
  },
  {
   "cell_type": "code",
   "execution_count": 10,
   "metadata": {},
   "outputs": [
    {
     "data": {
      "text/plain": [
       "20"
      ]
     },
     "execution_count": 10,
     "metadata": {},
     "output_type": "execute_result"
    }
   ],
   "source": [
    "x_train = x_train[::40]\n",
    "y_train = y_train[::40]\n",
    "len(x_train)"
   ]
  },
  {
   "cell_type": "code",
   "execution_count": 11,
   "metadata": {},
   "outputs": [],
   "source": [
    "trainn = []\n",
    "testt = []\n",
    "\n",
    "# turn into dictionary\n",
    "\n",
    "for i in range(len(x_train)):\n",
    "    trainn.append({\"x\": x_train[i].unsqueeze(0), \"y\": y_train[i].unsqueeze(0)})\n",
    "    \n",
    "\n",
    "for i in range(len(x_test)):\n",
    "    testt.append({\"x\": x_test[i].unsqueeze(0), \"y\": y_test[i].unsqueeze(0)})\n",
    "\n"
   ]
  },
  {
   "cell_type": "code",
   "execution_count": 12,
   "metadata": {},
   "outputs": [],
   "source": [
    "# append grid?\n",
    "\n",
    "s = x_train.size(-1)\n",
    "\n",
    "grid = [-1,1]\n",
    "grid1 = torch.linspace(grid[0], grid[1], s + 1)[0:-1].view(1,-1)\n",
    "grid2 = torch.zeros(1, s)\n",
    "\n",
    "samplegrid = torch.linspace(grid[0], grid[1], s)[0:-1].view(1,-1)\n",
    "\n",
    "count = 0\n",
    "subcount = 0\n",
    "for i in range(s):\n",
    "    if i % 2 == 0: \n",
    "        grid2[:,i] = samplegrid[:, subcount]\n",
    "    else:\n",
    "        grid2[:,i] = samplegrid[:, subcount ]\n",
    "        subcount += 1\n",
    "    \n"
   ]
  },
  {
   "cell_type": "code",
   "execution_count": 13,
   "metadata": {},
   "outputs": [],
   "source": [
    "\n",
    "\n",
    "#use different resolution grid later?\n",
    "\n",
    "\n",
    "for i in range(len(trainn)):\n",
    "    trainn[i][\"x\"] = torch.stack([trainn[i][\"x\"], grid1, grid2])\n",
    "#     trainn[i][\"y\"] = trainn[i][\"y\"].unsqueeze(1)\n",
    "\n",
    "\n",
    "    trainn[i][\"x\"] = trainn[i][\"x\"].squeeze()\n",
    "#     trainn[i][\"y\"] = trainn[i][\"y\"].squeeze()\n",
    "\n",
    "    \n",
    "for i in range(len(testt)):\n",
    "    testt[i][\"x\"] = torch.Tensor(torch.stack([testt[i][\"x\"], grid1,grid2]))\n",
    "#     testt[i][\"x\"] = torch.permute(testt[i][\"x\"],  (0,2,1))\n",
    "\n",
    "    \n",
    "#     testt[i][\"y\"] = testt[i][\"y\"].unsqueeze(1)\n",
    "#     testt[i][\"y\"] = torch.permute(testt[i][\"y\"], (0,2,1))\n",
    "\n",
    "\n",
    "    testt[i][\"x\"] = testt[i][\"x\"].squeeze()\n",
    "#     testt[i][\"y\"] = testt[i][\"y\"].squeeze()\n",
    "    \n",
    "\n"
   ]
  },
  {
   "cell_type": "code",
   "execution_count": 14,
   "metadata": {},
   "outputs": [],
   "source": [
    "#1, 1 works here\n",
    "    \n",
    "batch_train = 1\n",
    "batch_test = 1\n",
    "\n",
    "# load data\n",
    "\n",
    "    \n",
    "train_loader = torch.utils.data.DataLoader(trainn, batch_size=batch_train, shuffle=False)\n",
    "test_loader = torch.utils.data.DataLoader(testt, batch_size=batch_test, shuffle=False)"
   ]
  },
  {
   "cell_type": "code",
   "execution_count": 16,
   "metadata": {},
   "outputs": [],
   "source": [
    "# for idx, sample in enumerate(train_loader):\n",
    "#     print(idx)\n",
    "# #     print(\"x\")\n",
    "#     print(sample[\"x\"])\n",
    "#     print(sample[\"x\"].size())\n",
    "#     print(\"y\")\n",
    "#     print(sample[\"y\"])\n",
    "#     print(sample[\"y\"].size())\n",
    "\n",
    "    \n",
    "# # x is double tensor wrapped?    "
   ]
  },
  {
   "cell_type": "markdown",
   "metadata": {},
   "source": [
    "We create a tensorized FNO model\n",
    "\n"
   ]
  },
  {
   "cell_type": "code",
   "execution_count": 15,
   "metadata": {},
   "outputs": [
    {
     "name": "stdout",
     "output_type": "stream",
     "text": [
      "\n",
      "Our model has 33089 parameters.\n"
     ]
    }
   ],
   "source": [
    "model = TFNO1d(n_modes=(16, 16), hidden_channels=32, projection_channels=64, factorization='tucker', \n",
    "               rank=0.42, n_modes_height = 16)\n",
    "model = model.to(device)\n",
    "\n",
    "n_params = count_params(model)\n",
    "print(f'\\nOur model has {n_params} parameters.')\n",
    "sys.stdout.flush()"
   ]
  },
  {
   "cell_type": "markdown",
   "metadata": {},
   "source": [
    "Create the optimizer\n",
    "\n"
   ]
  },
  {
   "cell_type": "code",
   "execution_count": 16,
   "metadata": {},
   "outputs": [],
   "source": [
    "optimizer = torch.optim.Adam(model.parameters(), \n",
    "                                lr=8e-5, \n",
    "                                weight_decay=1e-4)\n",
    "scheduler = torch.optim.lr_scheduler.CosineAnnealingLR(optimizer, T_max=30)"
   ]
  },
  {
   "cell_type": "markdown",
   "metadata": {},
   "source": [
    "Creating the losses\n",
    "\n"
   ]
  },
  {
   "cell_type": "code",
   "execution_count": 17,
   "metadata": {},
   "outputs": [],
   "source": [
    "l2loss = LpLoss(d=2, p=2)\n",
    "h1loss = H1Loss(d=2)\n",
    "l1loss = LpLoss(d=2, p=1)\n",
    "\n",
    "train_loss = h1loss\n",
    "eval_losses={'h1': h1loss, 'l2': l2loss, \"l1\": l1loss}"
   ]
  },
  {
   "cell_type": "code",
   "execution_count": 18,
   "metadata": {},
   "outputs": [
    {
     "name": "stdout",
     "output_type": "stream",
     "text": [
      "\n",
      "### MODEL ###\n",
      " TFNO1d(\n",
      "  (fno_blocks): FNOBlocks(\n",
      "    (convs): FactorizedSpectralConv(\n",
      "      (weight): ModuleList(\n",
      "        (0-3): 4 x ComplexTuckerTensor(shape=(32, 32, 8), rank=(20, 20, 5))\n",
      "      )\n",
      "    )\n",
      "    (fno_skips): ModuleList(\n",
      "      (0-3): 4 x Conv1d(32, 32, kernel_size=(1,), stride=(1,), bias=False)\n",
      "    )\n",
      "  )\n",
      "  (lifting): Lifting(\n",
      "    (fc): Conv1d(3, 32, kernel_size=(1,), stride=(1,))\n",
      "  )\n",
      "  (projection): Projection(\n",
      "    (fc1): Conv1d(32, 64, kernel_size=(1,), stride=(1,))\n",
      "    (fc2): Conv1d(64, 1, kernel_size=(1,), stride=(1,))\n",
      "  )\n",
      ")\n",
      "\n",
      "### OPTIMIZER ###\n",
      " Adam (\n",
      "Parameter Group 0\n",
      "    amsgrad: False\n",
      "    betas: (0.9, 0.999)\n",
      "    capturable: False\n",
      "    differentiable: False\n",
      "    eps: 1e-08\n",
      "    foreach: None\n",
      "    fused: None\n",
      "    initial_lr: 8e-05\n",
      "    lr: 8e-05\n",
      "    maximize: False\n",
      "    weight_decay: 0.0001\n",
      ")\n",
      "\n",
      "### SCHEDULER ###\n",
      " <torch.optim.lr_scheduler.CosineAnnealingLR object at 0x00000244927557F0>\n",
      "\n",
      "### LOSSES ###\n",
      "\n",
      " * Train: <neuralop.training.losses.H1Loss object at 0x00000244927556A0>\n",
      "\n",
      " * Test: {'h1': <neuralop.training.losses.H1Loss object at 0x00000244927556A0>, 'l2': <neuralop.training.losses.LpLoss object at 0x000002449272E340>, 'l1': <neuralop.training.losses.LpLoss object at 0x000002449272E130>}\n"
     ]
    }
   ],
   "source": [
    "print('\\n### MODEL ###\\n', model)\n",
    "print('\\n### OPTIMIZER ###\\n', optimizer)\n",
    "print('\\n### SCHEDULER ###\\n', scheduler)\n",
    "print('\\n### LOSSES ###')\n",
    "print(f'\\n * Train: {train_loss}')\n",
    "print(f'\\n * Test: {eval_losses}')\n",
    "sys.stdout.flush()"
   ]
  },
  {
   "cell_type": "markdown",
   "metadata": {},
   "source": [
    "Create the trainer\n",
    "\n"
   ]
  },
  {
   "cell_type": "code",
   "execution_count": 21,
   "metadata": {},
   "outputs": [
    {
     "name": "stdout",
     "output_type": "stream",
     "text": [
      "Training on regular inputs (no multi-grid patching).\n"
     ]
    }
   ],
   "source": [
    "trainer = Trainer(model, n_epochs=1000,\n",
    "                  device=device,\n",
    "                  mg_patching_levels=0,\n",
    "                  wandb_log=False,\n",
    "                  log_test_interval=3,\n",
    "                  use_distributed=False,\n",
    "                  verbose=True)"
   ]
  },
  {
   "cell_type": "code",
   "execution_count": 22,
   "metadata": {},
   "outputs": [
    {
     "ename": "NameError",
     "evalue": "name 'annealing' is not defined",
     "output_type": "error",
     "traceback": [
      "\u001b[1;31m---------------------------------------------------------------------------\u001b[0m",
      "\u001b[1;31mNameError\u001b[0m                                 Traceback (most recent call last)",
      "\u001b[1;32m~\\AppData\\Local\\Temp/ipykernel_33712/2887667795.py\u001b[0m in \u001b[0;36m<module>\u001b[1;34m\u001b[0m\n\u001b[1;32m----> 1\u001b[1;33m \u001b[0mscheduler\u001b[0m\u001b[1;33m.\u001b[0m\u001b[0mload_state_dict\u001b[0m\u001b[1;33m(\u001b[0m\u001b[0mannealing\u001b[0m\u001b[1;33m)\u001b[0m\u001b[1;33m\u001b[0m\u001b[1;33m\u001b[0m\u001b[0m\n\u001b[0m",
      "\u001b[1;31mNameError\u001b[0m: name 'annealing' is not defined"
     ]
    }
   ],
   "source": [
    "scheduler.load_state_dict(annealing)"
   ]
  },
  {
   "cell_type": "code",
   "execution_count": 48,
   "metadata": {},
   "outputs": [
    {
     "name": "stdout",
     "output_type": "stream",
     "text": [
      "Training on 20 samples\n",
      "Testing on [200] samples         on resolutions ['test'].\n",
      "Training on raw inputs of size x.shape=torch.Size([1, 3, 201]), y.shape=torch.Size([1, 1, 201])\n",
      ".. patched inputs of size x.shape=torch.Size([1, 3, 201]), y.shape=torch.Size([1, 1, 201])\n",
      "Raw outputs of size out.shape=torch.Size([1, 1, 201])\n",
      ".. Processed (unpatched) outputs of size out.shape=torch.Size([1, 1, 201])\n",
      "[0] time=0.46, avg_loss=0.0000, train_err=0.0014, test_h1=0.0018, test_l2=0.0018, test_l1=0.0019\n",
      "[3] time=0.34, avg_loss=0.0000, train_err=0.0015, test_h1=0.0019, test_l2=0.0021, test_l1=0.0023\n",
      "[6] time=0.36, avg_loss=0.0000, train_err=0.0019, test_h1=0.0020, test_l2=0.0024, test_l1=0.0026\n",
      "[9] time=0.26, avg_loss=0.0001, train_err=0.0042, test_h1=0.0035, test_l2=0.0026, test_l1=0.0029\n",
      "[12] time=0.21, avg_loss=0.0001, train_err=0.0064, test_h1=0.0059, test_l2=0.0056, test_l1=0.0061\n",
      "[15] time=0.23, avg_loss=0.0001, train_err=0.0047, test_h1=0.0070, test_l2=0.0055, test_l1=0.0064\n",
      "[18] time=0.21, avg_loss=0.0001, train_err=0.0043, test_h1=0.0046, test_l2=0.0047, test_l1=0.0054\n",
      "[21] time=0.20, avg_loss=0.0002, train_err=0.0084, test_h1=0.0077, test_l2=0.0062, test_l1=0.0068\n",
      "[24] time=0.20, avg_loss=0.0001, train_err=0.0052, test_h1=0.0056, test_l2=0.0058, test_l1=0.0063\n",
      "[27] time=0.18, avg_loss=0.0001, train_err=0.0032, test_h1=0.0032, test_l2=0.0027, test_l1=0.0029\n",
      "[30] time=0.22, avg_loss=0.0001, train_err=0.0040, test_h1=0.0022, test_l2=0.0026, test_l1=0.0028\n",
      "[33] time=0.20, avg_loss=0.0000, train_err=0.0019, test_h1=0.0024, test_l2=0.0020, test_l1=0.0021\n",
      "[36] time=0.23, avg_loss=0.0000, train_err=0.0017, test_h1=0.0019, test_l2=0.0021, test_l1=0.0022\n",
      "[39] time=0.20, avg_loss=0.0000, train_err=0.0018, test_h1=0.0022, test_l2=0.0023, test_l1=0.0024\n",
      "[42] time=0.20, avg_loss=0.0000, train_err=0.0015, test_h1=0.0018, test_l2=0.0018, test_l1=0.0019\n",
      "[45] time=0.20, avg_loss=0.0000, train_err=0.0014, test_h1=0.0017, test_l2=0.0018, test_l1=0.0018\n",
      "[48] time=0.19, avg_loss=0.0000, train_err=0.0014, test_h1=0.0017, test_l2=0.0017, test_l1=0.0018\n",
      "[51] time=0.20, avg_loss=0.0000, train_err=0.0014, test_h1=0.0017, test_l2=0.0017, test_l1=0.0018\n",
      "[54] time=0.19, avg_loss=0.0000, train_err=0.0014, test_h1=0.0017, test_l2=0.0017, test_l1=0.0018\n",
      "[57] time=0.19, avg_loss=0.0000, train_err=0.0014, test_h1=0.0017, test_l2=0.0018, test_l1=0.0020\n",
      "[60] time=0.21, avg_loss=0.0000, train_err=0.0015, test_h1=0.0018, test_l2=0.0017, test_l1=0.0018\n",
      "[63] time=0.20, avg_loss=0.0000, train_err=0.0017, test_h1=0.0019, test_l2=0.0019, test_l1=0.0019\n",
      "[66] time=0.20, avg_loss=0.0001, train_err=0.0032, test_h1=0.0025, test_l2=0.0028, test_l1=0.0031\n",
      "[69] time=0.19, avg_loss=0.0001, train_err=0.0047, test_h1=0.0039, test_l2=0.0032, test_l1=0.0036\n",
      "[72] time=0.19, avg_loss=0.0001, train_err=0.0047, test_h1=0.0047, test_l2=0.0079, test_l1=0.0100\n",
      "[75] time=0.19, avg_loss=0.0001, train_err=0.0032, test_h1=0.0030, test_l2=0.0053, test_l1=0.0064\n",
      "[78] time=0.20, avg_loss=0.0001, train_err=0.0040, test_h1=0.0060, test_l2=0.0049, test_l1=0.0055\n",
      "[81] time=0.20, avg_loss=0.0000, train_err=0.0021, test_h1=0.0020, test_l2=0.0024, test_l1=0.0026\n",
      "[84] time=0.19, avg_loss=0.0001, train_err=0.0042, test_h1=0.0045, test_l2=0.0040, test_l1=0.0045\n",
      "[87] time=0.20, avg_loss=0.0001, train_err=0.0036, test_h1=0.0042, test_l2=0.0032, test_l1=0.0035\n",
      "[90] time=0.20, avg_loss=0.0001, train_err=0.0038, test_h1=0.0045, test_l2=0.0058, test_l1=0.0065\n",
      "[93] time=0.20, avg_loss=0.0001, train_err=0.0028, test_h1=0.0049, test_l2=0.0037, test_l1=0.0042\n",
      "[96] time=0.21, avg_loss=0.0000, train_err=0.0017, test_h1=0.0019, test_l2=0.0018, test_l1=0.0019\n",
      "[99] time=0.20, avg_loss=0.0000, train_err=0.0017, test_h1=0.0018, test_l2=0.0019, test_l1=0.0020\n",
      "[102] time=0.18, avg_loss=0.0000, train_err=0.0015, test_h1=0.0018, test_l2=0.0018, test_l1=0.0019\n",
      "[105] time=0.20, avg_loss=0.0000, train_err=0.0014, test_h1=0.0018, test_l2=0.0018, test_l1=0.0019\n",
      "[108] time=0.19, avg_loss=0.0000, train_err=0.0014, test_h1=0.0017, test_l2=0.0017, test_l1=0.0019\n",
      "[111] time=0.19, avg_loss=0.0000, train_err=0.0014, test_h1=0.0017, test_l2=0.0017, test_l1=0.0019\n",
      "[114] time=0.20, avg_loss=0.0000, train_err=0.0014, test_h1=0.0017, test_l2=0.0018, test_l1=0.0019\n",
      "[117] time=0.19, avg_loss=0.0000, train_err=0.0014, test_h1=0.0018, test_l2=0.0018, test_l1=0.0020\n",
      "[120] time=0.20, avg_loss=0.0000, train_err=0.0016, test_h1=0.0020, test_l2=0.0019, test_l1=0.0021\n",
      "[123] time=0.21, avg_loss=0.0000, train_err=0.0021, test_h1=0.0029, test_l2=0.0025, test_l1=0.0028\n",
      "[126] time=0.19, avg_loss=0.0001, train_err=0.0025, test_h1=0.0035, test_l2=0.0030, test_l1=0.0034\n",
      "[129] time=0.19, avg_loss=0.0001, train_err=0.0032, test_h1=0.0044, test_l2=0.0037, test_l1=0.0043\n",
      "[132] time=0.18, avg_loss=0.0001, train_err=0.0027, test_h1=0.0027, test_l2=0.0030, test_l1=0.0035\n",
      "[135] time=0.18, avg_loss=0.0001, train_err=0.0038, test_h1=0.0045, test_l2=0.0054, test_l1=0.0058\n",
      "[138] time=0.19, avg_loss=0.0001, train_err=0.0039, test_h1=0.0033, test_l2=0.0045, test_l1=0.0050\n",
      "[141] time=0.20, avg_loss=0.0001, train_err=0.0038, test_h1=0.0027, test_l2=0.0050, test_l1=0.0061\n",
      "[144] time=0.23, avg_loss=0.0001, train_err=0.0058, test_h1=0.0039, test_l2=0.0055, test_l1=0.0062\n",
      "[147] time=0.31, avg_loss=0.0001, train_err=0.0048, test_h1=0.0033, test_l2=0.0024, test_l1=0.0027\n",
      "[150] time=0.21, avg_loss=0.0000, train_err=0.0022, test_h1=0.0024, test_l2=0.0027, test_l1=0.0030\n",
      "[153] time=0.21, avg_loss=0.0000, train_err=0.0023, test_h1=0.0022, test_l2=0.0019, test_l1=0.0020\n",
      "[156] time=0.21, avg_loss=0.0000, train_err=0.0023, test_h1=0.0029, test_l2=0.0028, test_l1=0.0030\n",
      "[159] time=0.21, avg_loss=0.0000, train_err=0.0016, test_h1=0.0021, test_l2=0.0020, test_l1=0.0022\n",
      "[162] time=0.20, avg_loss=0.0000, train_err=0.0014, test_h1=0.0017, test_l2=0.0018, test_l1=0.0019\n",
      "[165] time=0.21, avg_loss=0.0000, train_err=0.0014, test_h1=0.0017, test_l2=0.0017, test_l1=0.0018\n",
      "[168] time=0.21, avg_loss=0.0000, train_err=0.0013, test_h1=0.0017, test_l2=0.0017, test_l1=0.0018\n",
      "[171] time=0.19, avg_loss=0.0000, train_err=0.0013, test_h1=0.0017, test_l2=0.0017, test_l1=0.0018\n",
      "[174] time=0.19, avg_loss=0.0000, train_err=0.0013, test_h1=0.0017, test_l2=0.0017, test_l1=0.0018\n",
      "[177] time=0.19, avg_loss=0.0000, train_err=0.0014, test_h1=0.0017, test_l2=0.0018, test_l1=0.0019\n",
      "[180] time=0.19, avg_loss=0.0000, train_err=0.0016, test_h1=0.0020, test_l2=0.0019, test_l1=0.0021\n",
      "[183] time=0.19, avg_loss=0.0000, train_err=0.0020, test_h1=0.0027, test_l2=0.0024, test_l1=0.0027\n",
      "[186] time=0.19, avg_loss=0.0001, train_err=0.0026, test_h1=0.0038, test_l2=0.0033, test_l1=0.0037\n",
      "[189] time=0.19, avg_loss=0.0001, train_err=0.0026, test_h1=0.0033, test_l2=0.0024, test_l1=0.0025\n",
      "[192] time=0.21, avg_loss=0.0001, train_err=0.0045, test_h1=0.0055, test_l2=0.0073, test_l1=0.0086\n",
      "[195] time=0.19, avg_loss=0.0001, train_err=0.0056, test_h1=0.0091, test_l2=0.0075, test_l1=0.0084\n",
      "[198] time=0.19, avg_loss=0.0001, train_err=0.0070, test_h1=0.0063, test_l2=0.0051, test_l1=0.0055\n",
      "[201] time=0.18, avg_loss=0.0001, train_err=0.0048, test_h1=0.0032, test_l2=0.0033, test_l1=0.0038\n",
      "[204] time=0.20, avg_loss=0.0001, train_err=0.0038, test_h1=0.0031, test_l2=0.0032, test_l1=0.0034\n",
      "[207] time=0.19, avg_loss=0.0001, train_err=0.0033, test_h1=0.0023, test_l2=0.0040, test_l1=0.0047\n",
      "[210] time=0.19, avg_loss=0.0001, train_err=0.0037, test_h1=0.0035, test_l2=0.0023, test_l1=0.0025\n",
      "[213] time=0.18, avg_loss=0.0001, train_err=0.0026, test_h1=0.0039, test_l2=0.0031, test_l1=0.0036\n",
      "[216] time=0.18, avg_loss=0.0000, train_err=0.0017, test_h1=0.0020, test_l2=0.0022, test_l1=0.0025\n",
      "[219] time=0.20, avg_loss=0.0000, train_err=0.0018, test_h1=0.0019, test_l2=0.0022, test_l1=0.0025\n",
      "[222] time=0.19, avg_loss=0.0000, train_err=0.0014, test_h1=0.0017, test_l2=0.0017, test_l1=0.0019\n",
      "[225] time=0.19, avg_loss=0.0000, train_err=0.0013, test_h1=0.0017, test_l2=0.0017, test_l1=0.0018\n",
      "[228] time=0.19, avg_loss=0.0000, train_err=0.0013, test_h1=0.0017, test_l2=0.0016, test_l1=0.0017\n",
      "[231] time=0.21, avg_loss=0.0000, train_err=0.0013, test_h1=0.0017, test_l2=0.0016, test_l1=0.0017\n",
      "[234] time=0.21, avg_loss=0.0000, train_err=0.0013, test_h1=0.0017, test_l2=0.0017, test_l1=0.0018\n",
      "[237] time=0.21, avg_loss=0.0000, train_err=0.0014, test_h1=0.0017, test_l2=0.0017, test_l1=0.0019\n",
      "[240] time=0.20, avg_loss=0.0000, train_err=0.0015, test_h1=0.0019, test_l2=0.0018, test_l1=0.0020\n",
      "[243] time=0.20, avg_loss=0.0000, train_err=0.0021, test_h1=0.0028, test_l2=0.0026, test_l1=0.0029\n",
      "[246] time=0.19, avg_loss=0.0001, train_err=0.0035, test_h1=0.0024, test_l2=0.0031, test_l1=0.0034\n",
      "[249] time=0.19, avg_loss=0.0001, train_err=0.0031, test_h1=0.0025, test_l2=0.0032, test_l1=0.0035\n",
      "[252] time=0.19, avg_loss=0.0001, train_err=0.0027, test_h1=0.0022, test_l2=0.0032, test_l1=0.0034\n",
      "[255] time=0.19, avg_loss=0.0001, train_err=0.0053, test_h1=0.0038, test_l2=0.0036, test_l1=0.0039\n",
      "[258] time=0.19, avg_loss=0.0001, train_err=0.0060, test_h1=0.0048, test_l2=0.0074, test_l1=0.0082\n",
      "[261] time=0.19, avg_loss=0.0001, train_err=0.0031, test_h1=0.0045, test_l2=0.0051, test_l1=0.0057\n",
      "[264] time=0.19, avg_loss=0.0001, train_err=0.0058, test_h1=0.0043, test_l2=0.0087, test_l1=0.0110\n",
      "[267] time=0.19, avg_loss=0.0001, train_err=0.0056, test_h1=0.0046, test_l2=0.0062, test_l1=0.0070\n",
      "[270] time=0.18, avg_loss=0.0001, train_err=0.0031, test_h1=0.0044, test_l2=0.0037, test_l1=0.0043\n",
      "[273] time=0.20, avg_loss=0.0000, train_err=0.0021, test_h1=0.0020, test_l2=0.0022, test_l1=0.0025\n",
      "[276] time=0.19, avg_loss=0.0000, train_err=0.0017, test_h1=0.0018, test_l2=0.0019, test_l1=0.0020\n",
      "[279] time=0.18, avg_loss=0.0000, train_err=0.0019, test_h1=0.0018, test_l2=0.0017, test_l1=0.0019\n",
      "[282] time=0.19, avg_loss=0.0000, train_err=0.0014, test_h1=0.0016, test_l2=0.0016, test_l1=0.0018\n",
      "[285] time=0.19, avg_loss=0.0000, train_err=0.0013, test_h1=0.0016, test_l2=0.0016, test_l1=0.0017\n",
      "[288] time=0.19, avg_loss=0.0000, train_err=0.0013, test_h1=0.0016, test_l2=0.0016, test_l1=0.0017\n",
      "[291] time=0.19, avg_loss=0.0000, train_err=0.0013, test_h1=0.0016, test_l2=0.0016, test_l1=0.0017\n",
      "[294] time=0.19, avg_loss=0.0000, train_err=0.0013, test_h1=0.0016, test_l2=0.0016, test_l1=0.0017\n",
      "[297] time=0.19, avg_loss=0.0000, train_err=0.0013, test_h1=0.0016, test_l2=0.0017, test_l1=0.0018\n",
      "[300] time=0.19, avg_loss=0.0000, train_err=0.0013, test_h1=0.0016, test_l2=0.0016, test_l1=0.0018\n",
      "[303] time=0.20, avg_loss=0.0000, train_err=0.0014, test_h1=0.0018, test_l2=0.0019, test_l1=0.0021\n",
      "[306] time=0.20, avg_loss=0.0000, train_err=0.0016, test_h1=0.0018, test_l2=0.0020, test_l1=0.0021\n",
      "[309] time=0.19, avg_loss=0.0001, train_err=0.0052, test_h1=0.0061, test_l2=0.0051, test_l1=0.0055\n",
      "[312] time=0.20, avg_loss=0.0001, train_err=0.0053, test_h1=0.0057, test_l2=0.0056, test_l1=0.0061\n",
      "[315] time=0.21, avg_loss=0.0001, train_err=0.0033, test_h1=0.0029, test_l2=0.0036, test_l1=0.0040\n",
      "[318] time=0.19, avg_loss=0.0001, train_err=0.0045, test_h1=0.0029, test_l2=0.0033, test_l1=0.0037\n",
      "[321] time=0.19, avg_loss=0.0001, train_err=0.0056, test_h1=0.0034, test_l2=0.0026, test_l1=0.0029\n",
      "[324] time=0.20, avg_loss=0.0001, train_err=0.0049, test_h1=0.0032, test_l2=0.0026, test_l1=0.0028\n",
      "[327] time=0.19, avg_loss=0.0001, train_err=0.0028, test_h1=0.0022, test_l2=0.0023, test_l1=0.0025\n",
      "[330] time=0.18, avg_loss=0.0001, train_err=0.0037, test_h1=0.0033, test_l2=0.0028, test_l1=0.0031\n",
      "[333] time=0.23, avg_loss=0.0001, train_err=0.0026, test_h1=0.0030, test_l2=0.0022, test_l1=0.0023\n",
      "[336] time=0.19, avg_loss=0.0001, train_err=0.0028, test_h1=0.0024, test_l2=0.0022, test_l1=0.0023\n",
      "[339] time=0.18, avg_loss=0.0000, train_err=0.0016, test_h1=0.0021, test_l2=0.0023, test_l1=0.0026\n",
      "[342] time=0.19, avg_loss=0.0000, train_err=0.0014, test_h1=0.0016, test_l2=0.0017, test_l1=0.0018\n",
      "[345] time=0.19, avg_loss=0.0000, train_err=0.0013, test_h1=0.0016, test_l2=0.0016, test_l1=0.0016\n",
      "[348] time=0.19, avg_loss=0.0000, train_err=0.0013, test_h1=0.0016, test_l2=0.0015, test_l1=0.0016\n",
      "[351] time=0.21, avg_loss=0.0000, train_err=0.0013, test_h1=0.0016, test_l2=0.0015, test_l1=0.0016\n",
      "[354] time=0.20, avg_loss=0.0000, train_err=0.0013, test_h1=0.0016, test_l2=0.0015, test_l1=0.0016\n",
      "[357] time=0.19, avg_loss=0.0000, train_err=0.0013, test_h1=0.0016, test_l2=0.0016, test_l1=0.0018\n",
      "[360] time=0.19, avg_loss=0.0000, train_err=0.0014, test_h1=0.0016, test_l2=0.0016, test_l1=0.0017\n",
      "[363] time=0.18, avg_loss=0.0000, train_err=0.0021, test_h1=0.0024, test_l2=0.0018, test_l1=0.0019\n",
      "[366] time=0.18, avg_loss=0.0001, train_err=0.0033, test_h1=0.0030, test_l2=0.0025, test_l1=0.0027\n",
      "[369] time=0.18, avg_loss=0.0000, train_err=0.0019, test_h1=0.0026, test_l2=0.0045, test_l1=0.0054\n",
      "[372] time=0.19, avg_loss=0.0001, train_err=0.0033, test_h1=0.0031, test_l2=0.0024, test_l1=0.0025\n",
      "[375] time=0.19, avg_loss=0.0001, train_err=0.0030, test_h1=0.0019, test_l2=0.0024, test_l1=0.0026\n",
      "[378] time=0.18, avg_loss=0.0001, train_err=0.0048, test_h1=0.0058, test_l2=0.0057, test_l1=0.0061\n",
      "[381] time=0.19, avg_loss=0.0001, train_err=0.0038, test_h1=0.0035, test_l2=0.0047, test_l1=0.0051\n",
      "[384] time=0.20, avg_loss=0.0001, train_err=0.0037, test_h1=0.0027, test_l2=0.0026, test_l1=0.0029\n",
      "[387] time=0.21, avg_loss=0.0001, train_err=0.0045, test_h1=0.0035, test_l2=0.0032, test_l1=0.0035\n",
      "[390] time=0.22, avg_loss=0.0001, train_err=0.0050, test_h1=0.0031, test_l2=0.0036, test_l1=0.0042\n",
      "[393] time=0.19, avg_loss=0.0001, train_err=0.0025, test_h1=0.0030, test_l2=0.0021, test_l1=0.0022\n",
      "[396] time=0.19, avg_loss=0.0000, train_err=0.0022, test_h1=0.0019, test_l2=0.0019, test_l1=0.0020\n",
      "[399] time=0.21, avg_loss=0.0000, train_err=0.0016, test_h1=0.0019, test_l2=0.0020, test_l1=0.0023\n",
      "[402] time=0.21, avg_loss=0.0000, train_err=0.0013, test_h1=0.0016, test_l2=0.0016, test_l1=0.0018\n",
      "[405] time=0.22, avg_loss=0.0000, train_err=0.0013, test_h1=0.0016, test_l2=0.0016, test_l1=0.0016\n",
      "[408] time=0.18, avg_loss=0.0000, train_err=0.0012, test_h1=0.0016, test_l2=0.0015, test_l1=0.0016\n",
      "[411] time=0.18, avg_loss=0.0000, train_err=0.0012, test_h1=0.0016, test_l2=0.0015, test_l1=0.0016\n",
      "[414] time=0.18, avg_loss=0.0000, train_err=0.0012, test_h1=0.0016, test_l2=0.0015, test_l1=0.0016\n",
      "[417] time=0.20, avg_loss=0.0000, train_err=0.0013, test_h1=0.0016, test_l2=0.0016, test_l1=0.0017\n",
      "[420] time=0.20, avg_loss=0.0000, train_err=0.0013, test_h1=0.0016, test_l2=0.0016, test_l1=0.0017\n",
      "[423] time=0.18, avg_loss=0.0000, train_err=0.0020, test_h1=0.0029, test_l2=0.0023, test_l1=0.0025\n",
      "[426] time=0.19, avg_loss=0.0001, train_err=0.0032, test_h1=0.0020, test_l2=0.0017, test_l1=0.0018\n",
      "[429] time=0.19, avg_loss=0.0000, train_err=0.0020, test_h1=0.0028, test_l2=0.0026, test_l1=0.0028\n",
      "[432] time=0.20, avg_loss=0.0001, train_err=0.0034, test_h1=0.0040, test_l2=0.0039, test_l1=0.0044\n",
      "[435] time=0.20, avg_loss=0.0001, train_err=0.0030, test_h1=0.0023, test_l2=0.0023, test_l1=0.0025\n",
      "[438] time=0.20, avg_loss=0.0001, train_err=0.0034, test_h1=0.0029, test_l2=0.0035, test_l1=0.0039\n",
      "[441] time=0.20, avg_loss=0.0001, train_err=0.0029, test_h1=0.0036, test_l2=0.0037, test_l1=0.0041\n",
      "[444] time=0.19, avg_loss=0.0001, train_err=0.0042, test_h1=0.0050, test_l2=0.0040, test_l1=0.0047\n",
      "[447] time=0.18, avg_loss=0.0000, train_err=0.0023, test_h1=0.0028, test_l2=0.0026, test_l1=0.0027\n",
      "[450] time=0.18, avg_loss=0.0001, train_err=0.0025, test_h1=0.0021, test_l2=0.0025, test_l1=0.0028\n",
      "[453] time=0.19, avg_loss=0.0000, train_err=0.0018, test_h1=0.0022, test_l2=0.0024, test_l1=0.0026\n",
      "[456] time=0.20, avg_loss=0.0001, train_err=0.0032, test_h1=0.0038, test_l2=0.0041, test_l1=0.0044\n",
      "[459] time=0.20, avg_loss=0.0000, train_err=0.0013, test_h1=0.0016, test_l2=0.0016, test_l1=0.0017\n",
      "[462] time=0.19, avg_loss=0.0000, train_err=0.0013, test_h1=0.0016, test_l2=0.0016, test_l1=0.0017\n",
      "[465] time=0.19, avg_loss=0.0000, train_err=0.0012, test_h1=0.0015, test_l2=0.0015, test_l1=0.0016\n",
      "[468] time=0.18, avg_loss=0.0000, train_err=0.0012, test_h1=0.0015, test_l2=0.0015, test_l1=0.0015\n",
      "[471] time=0.18, avg_loss=0.0000, train_err=0.0012, test_h1=0.0015, test_l2=0.0015, test_l1=0.0015\n",
      "[474] time=0.19, avg_loss=0.0000, train_err=0.0012, test_h1=0.0015, test_l2=0.0015, test_l1=0.0015\n",
      "[477] time=0.19, avg_loss=0.0000, train_err=0.0013, test_h1=0.0015, test_l2=0.0016, test_l1=0.0017\n",
      "[480] time=0.19, avg_loss=0.0000, train_err=0.0013, test_h1=0.0015, test_l2=0.0015, test_l1=0.0016\n",
      "[483] time=0.19, avg_loss=0.0000, train_err=0.0022, test_h1=0.0030, test_l2=0.0034, test_l1=0.0038\n",
      "[486] time=0.19, avg_loss=0.0001, train_err=0.0038, test_h1=0.0024, test_l2=0.0023, test_l1=0.0025\n",
      "[489] time=0.18, avg_loss=0.0000, train_err=0.0019, test_h1=0.0021, test_l2=0.0026, test_l1=0.0030\n",
      "[492] time=0.19, avg_loss=0.0001, train_err=0.0040, test_h1=0.0046, test_l2=0.0053, test_l1=0.0058\n",
      "[495] time=0.19, avg_loss=0.0001, train_err=0.0054, test_h1=0.0028, test_l2=0.0020, test_l1=0.0023\n",
      "[498] time=0.19, avg_loss=0.0001, train_err=0.0030, test_h1=0.0029, test_l2=0.0037, test_l1=0.0042\n",
      "[501] time=0.19, avg_loss=0.0000, train_err=0.0021, test_h1=0.0026, test_l2=0.0035, test_l1=0.0040\n",
      "[504] time=0.19, avg_loss=0.0000, train_err=0.0022, test_h1=0.0024, test_l2=0.0029, test_l1=0.0032\n",
      "[507] time=0.19, avg_loss=0.0001, train_err=0.0040, test_h1=0.0072, test_l2=0.0057, test_l1=0.0066\n",
      "[510] time=0.20, avg_loss=0.0001, train_err=0.0031, test_h1=0.0040, test_l2=0.0029, test_l1=0.0031\n",
      "[513] time=0.18, avg_loss=0.0000, train_err=0.0018, test_h1=0.0020, test_l2=0.0025, test_l1=0.0028\n",
      "[516] time=0.18, avg_loss=0.0001, train_err=0.0025, test_h1=0.0019, test_l2=0.0018, test_l1=0.0018\n",
      "[519] time=0.19, avg_loss=0.0000, train_err=0.0020, test_h1=0.0017, test_l2=0.0018, test_l1=0.0020\n",
      "[522] time=0.19, avg_loss=0.0000, train_err=0.0013, test_h1=0.0015, test_l2=0.0015, test_l1=0.0016\n",
      "[525] time=0.19, avg_loss=0.0000, train_err=0.0012, test_h1=0.0015, test_l2=0.0015, test_l1=0.0016\n",
      "[528] time=0.18, avg_loss=0.0000, train_err=0.0012, test_h1=0.0015, test_l2=0.0014, test_l1=0.0015\n",
      "[531] time=0.18, avg_loss=0.0000, train_err=0.0012, test_h1=0.0015, test_l2=0.0014, test_l1=0.0015\n",
      "[534] time=0.20, avg_loss=0.0000, train_err=0.0012, test_h1=0.0015, test_l2=0.0015, test_l1=0.0015\n",
      "[537] time=0.21, avg_loss=0.0000, train_err=0.0013, test_h1=0.0015, test_l2=0.0016, test_l1=0.0017\n",
      "[540] time=0.21, avg_loss=0.0000, train_err=0.0012, test_h1=0.0015, test_l2=0.0015, test_l1=0.0016\n",
      "[543] time=0.20, avg_loss=0.0000, train_err=0.0013, test_h1=0.0016, test_l2=0.0019, test_l1=0.0020\n",
      "[546] time=0.19, avg_loss=0.0000, train_err=0.0016, test_h1=0.0020, test_l2=0.0024, test_l1=0.0027\n",
      "[549] time=0.19, avg_loss=0.0001, train_err=0.0035, test_h1=0.0072, test_l2=0.0052, test_l1=0.0062\n",
      "[552] time=0.20, avg_loss=0.0001, train_err=0.0034, test_h1=0.0020, test_l2=0.0025, test_l1=0.0029\n",
      "[555] time=0.19, avg_loss=0.0001, train_err=0.0035, test_h1=0.0025, test_l2=0.0038, test_l1=0.0043\n",
      "[558] time=0.19, avg_loss=0.0001, train_err=0.0052, test_h1=0.0084, test_l2=0.0107, test_l1=0.0127\n",
      "[561] time=0.20, avg_loss=0.0001, train_err=0.0050, test_h1=0.0063, test_l2=0.0049, test_l1=0.0055\n",
      "[564] time=0.18, avg_loss=0.0001, train_err=0.0064, test_h1=0.0072, test_l2=0.0057, test_l1=0.0065\n",
      "[567] time=0.20, avg_loss=0.0001, train_err=0.0061, test_h1=0.0023, test_l2=0.0021, test_l1=0.0023\n",
      "[570] time=0.19, avg_loss=0.0001, train_err=0.0042, test_h1=0.0046, test_l2=0.0063, test_l1=0.0076\n",
      "[573] time=0.19, avg_loss=0.0001, train_err=0.0027, test_h1=0.0024, test_l2=0.0019, test_l1=0.0021\n",
      "[576] time=0.18, avg_loss=0.0000, train_err=0.0019, test_h1=0.0023, test_l2=0.0022, test_l1=0.0025\n",
      "[579] time=0.19, avg_loss=0.0000, train_err=0.0016, test_h1=0.0017, test_l2=0.0018, test_l1=0.0020\n",
      "[582] time=0.19, avg_loss=0.0000, train_err=0.0012, test_h1=0.0015, test_l2=0.0015, test_l1=0.0016\n",
      "[585] time=0.20, avg_loss=0.0000, train_err=0.0012, test_h1=0.0015, test_l2=0.0015, test_l1=0.0015\n",
      "[588] time=0.19, avg_loss=0.0000, train_err=0.0012, test_h1=0.0015, test_l2=0.0014, test_l1=0.0015\n",
      "[591] time=0.19, avg_loss=0.0000, train_err=0.0012, test_h1=0.0015, test_l2=0.0014, test_l1=0.0015\n",
      "[594] time=0.20, avg_loss=0.0000, train_err=0.0012, test_h1=0.0015, test_l2=0.0014, test_l1=0.0015\n",
      "[597] time=0.21, avg_loss=0.0000, train_err=0.0012, test_h1=0.0015, test_l2=0.0016, test_l1=0.0017\n",
      "[600] time=0.19, avg_loss=0.0000, train_err=0.0012, test_h1=0.0015, test_l2=0.0015, test_l1=0.0016\n",
      "[603] time=0.19, avg_loss=0.0000, train_err=0.0022, test_h1=0.0023, test_l2=0.0019, test_l1=0.0020\n",
      "[606] time=0.20, avg_loss=0.0001, train_err=0.0041, test_h1=0.0036, test_l2=0.0032, test_l1=0.0035\n",
      "[609] time=0.21, avg_loss=0.0001, train_err=0.0038, test_h1=0.0033, test_l2=0.0024, test_l1=0.0027\n",
      "[612] time=0.21, avg_loss=0.0001, train_err=0.0028, test_h1=0.0019, test_l2=0.0024, test_l1=0.0025\n",
      "[615] time=0.23, avg_loss=0.0001, train_err=0.0065, test_h1=0.0032, test_l2=0.0045, test_l1=0.0049\n",
      "[618] time=0.22, avg_loss=0.0001, train_err=0.0066, test_h1=0.0064, test_l2=0.0055, test_l1=0.0060\n",
      "[621] time=0.21, avg_loss=0.0001, train_err=0.0055, test_h1=0.0032, test_l2=0.0034, test_l1=0.0040\n",
      "[624] time=0.22, avg_loss=0.0001, train_err=0.0070, test_h1=0.0037, test_l2=0.0070, test_l1=0.0086\n",
      "[627] time=0.19, avg_loss=0.0001, train_err=0.0034, test_h1=0.0021, test_l2=0.0020, test_l1=0.0021\n",
      "[630] time=0.19, avg_loss=0.0001, train_err=0.0048, test_h1=0.0044, test_l2=0.0038, test_l1=0.0040\n",
      "[633] time=0.20, avg_loss=0.0000, train_err=0.0016, test_h1=0.0018, test_l2=0.0024, test_l1=0.0027\n",
      "[636] time=0.19, avg_loss=0.0000, train_err=0.0015, test_h1=0.0016, test_l2=0.0016, test_l1=0.0017\n",
      "[639] time=0.20, avg_loss=0.0000, train_err=0.0013, test_h1=0.0015, test_l2=0.0015, test_l1=0.0016\n",
      "[642] time=0.20, avg_loss=0.0000, train_err=0.0013, test_h1=0.0015, test_l2=0.0016, test_l1=0.0017\n",
      "[645] time=0.18, avg_loss=0.0000, train_err=0.0012, test_h1=0.0015, test_l2=0.0015, test_l1=0.0015\n",
      "[648] time=0.18, avg_loss=0.0000, train_err=0.0012, test_h1=0.0015, test_l2=0.0014, test_l1=0.0015\n",
      "[651] time=0.18, avg_loss=0.0000, train_err=0.0012, test_h1=0.0015, test_l2=0.0014, test_l1=0.0015\n",
      "[654] time=0.20, avg_loss=0.0000, train_err=0.0012, test_h1=0.0015, test_l2=0.0014, test_l1=0.0015\n",
      "[657] time=0.19, avg_loss=0.0000, train_err=0.0012, test_h1=0.0015, test_l2=0.0016, test_l1=0.0017\n",
      "[660] time=0.20, avg_loss=0.0000, train_err=0.0015, test_h1=0.0019, test_l2=0.0018, test_l1=0.0020\n",
      "[663] time=0.19, avg_loss=0.0000, train_err=0.0024, test_h1=0.0024, test_l2=0.0029, test_l1=0.0032\n",
      "[666] time=0.20, avg_loss=0.0000, train_err=0.0016, test_h1=0.0018, test_l2=0.0028, test_l1=0.0032\n",
      "[669] time=0.19, avg_loss=0.0000, train_err=0.0019, test_h1=0.0023, test_l2=0.0025, test_l1=0.0027\n",
      "[672] time=0.29, avg_loss=0.0000, train_err=0.0023, test_h1=0.0028, test_l2=0.0026, test_l1=0.0029\n",
      "[675] time=0.21, avg_loss=0.0001, train_err=0.0036, test_h1=0.0021, test_l2=0.0025, test_l1=0.0027\n",
      "[678] time=0.22, avg_loss=0.0001, train_err=0.0035, test_h1=0.0035, test_l2=0.0027, test_l1=0.0028\n",
      "[681] time=0.23, avg_loss=0.0001, train_err=0.0068, test_h1=0.0038, test_l2=0.0033, test_l1=0.0036\n",
      "[684] time=0.21, avg_loss=0.0001, train_err=0.0032, test_h1=0.0023, test_l2=0.0027, test_l1=0.0030\n",
      "[687] time=0.22, avg_loss=0.0001, train_err=0.0051, test_h1=0.0056, test_l2=0.0057, test_l1=0.0064\n",
      "[690] time=0.21, avg_loss=0.0001, train_err=0.0055, test_h1=0.0066, test_l2=0.0048, test_l1=0.0056\n",
      "[693] time=0.22, avg_loss=0.0001, train_err=0.0025, test_h1=0.0039, test_l2=0.0033, test_l1=0.0038\n",
      "[696] time=0.21, avg_loss=0.0000, train_err=0.0019, test_h1=0.0022, test_l2=0.0018, test_l1=0.0019\n",
      "[699] time=0.22, avg_loss=0.0000, train_err=0.0017, test_h1=0.0018, test_l2=0.0017, test_l1=0.0018\n",
      "[702] time=0.22, avg_loss=0.0000, train_err=0.0012, test_h1=0.0015, test_l2=0.0015, test_l1=0.0016\n",
      "[705] time=0.22, avg_loss=0.0000, train_err=0.0012, test_h1=0.0014, test_l2=0.0014, test_l1=0.0015\n",
      "[708] time=0.20, avg_loss=0.0000, train_err=0.0011, test_h1=0.0014, test_l2=0.0014, test_l1=0.0015\n",
      "[711] time=0.22, avg_loss=0.0000, train_err=0.0011, test_h1=0.0014, test_l2=0.0014, test_l1=0.0015\n",
      "[714] time=0.22, avg_loss=0.0000, train_err=0.0011, test_h1=0.0014, test_l2=0.0014, test_l1=0.0015\n",
      "[717] time=0.22, avg_loss=0.0000, train_err=0.0012, test_h1=0.0015, test_l2=0.0015, test_l1=0.0017\n",
      "[720] time=0.21, avg_loss=0.0000, train_err=0.0014, test_h1=0.0018, test_l2=0.0017, test_l1=0.0019\n",
      "[723] time=0.21, avg_loss=0.0000, train_err=0.0018, test_h1=0.0024, test_l2=0.0021, test_l1=0.0024\n",
      "[726] time=0.21, avg_loss=0.0001, train_err=0.0030, test_h1=0.0017, test_l2=0.0020, test_l1=0.0022\n",
      "[729] time=0.23, avg_loss=0.0001, train_err=0.0026, test_h1=0.0020, test_l2=0.0022, test_l1=0.0023\n",
      "[732] time=0.22, avg_loss=0.0001, train_err=0.0037, test_h1=0.0040, test_l2=0.0031, test_l1=0.0034\n",
      "[735] time=0.21, avg_loss=0.0001, train_err=0.0052, test_h1=0.0038, test_l2=0.0041, test_l1=0.0046\n",
      "[738] time=0.24, avg_loss=0.0001, train_err=0.0039, test_h1=0.0027, test_l2=0.0040, test_l1=0.0047\n",
      "[741] time=0.23, avg_loss=0.0001, train_err=0.0052, test_h1=0.0036, test_l2=0.0028, test_l1=0.0030\n",
      "[744] time=0.26, avg_loss=0.0001, train_err=0.0055, test_h1=0.0049, test_l2=0.0051, test_l1=0.0059\n",
      "[747] time=0.23, avg_loss=0.0001, train_err=0.0049, test_h1=0.0043, test_l2=0.0031, test_l1=0.0033\n",
      "[750] time=0.24, avg_loss=0.0001, train_err=0.0049, test_h1=0.0052, test_l2=0.0054, test_l1=0.0059\n",
      "[753] time=0.24, avg_loss=0.0000, train_err=0.0020, test_h1=0.0016, test_l2=0.0018, test_l1=0.0020\n",
      "[756] time=0.23, avg_loss=0.0000, train_err=0.0020, test_h1=0.0018, test_l2=0.0019, test_l1=0.0021\n",
      "[759] time=0.24, avg_loss=0.0000, train_err=0.0014, test_h1=0.0015, test_l2=0.0015, test_l1=0.0016\n",
      "[762] time=0.24, avg_loss=0.0000, train_err=0.0012, test_h1=0.0014, test_l2=0.0014, test_l1=0.0016\n",
      "[765] time=0.23, avg_loss=0.0000, train_err=0.0011, test_h1=0.0014, test_l2=0.0014, test_l1=0.0015\n",
      "[768] time=0.24, avg_loss=0.0000, train_err=0.0011, test_h1=0.0014, test_l2=0.0014, test_l1=0.0014\n",
      "[771] time=0.23, avg_loss=0.0000, train_err=0.0011, test_h1=0.0014, test_l2=0.0014, test_l1=0.0014\n",
      "[774] time=0.24, avg_loss=0.0000, train_err=0.0011, test_h1=0.0014, test_l2=0.0014, test_l1=0.0014\n",
      "[777] time=0.24, avg_loss=0.0000, train_err=0.0012, test_h1=0.0014, test_l2=0.0015, test_l1=0.0016\n",
      "[780] time=0.24, avg_loss=0.0000, train_err=0.0012, test_h1=0.0014, test_l2=0.0014, test_l1=0.0016\n",
      "[783] time=0.25, avg_loss=0.0000, train_err=0.0018, test_h1=0.0022, test_l2=0.0020, test_l1=0.0022\n",
      "[786] time=0.26, avg_loss=0.0001, train_err=0.0029, test_h1=0.0017, test_l2=0.0020, test_l1=0.0021\n",
      "[789] time=0.25, avg_loss=0.0000, train_err=0.0019, test_h1=0.0037, test_l2=0.0029, test_l1=0.0031\n",
      "[792] time=0.21, avg_loss=0.0001, train_err=0.0035, test_h1=0.0017, test_l2=0.0020, test_l1=0.0022\n",
      "[795] time=0.26, avg_loss=0.0001, train_err=0.0049, test_h1=0.0047, test_l2=0.0059, test_l1=0.0062\n",
      "[798] time=0.25, avg_loss=0.0001, train_err=0.0035, test_h1=0.0025, test_l2=0.0027, test_l1=0.0030\n",
      "[801] time=0.26, avg_loss=0.0001, train_err=0.0061, test_h1=0.0096, test_l2=0.0065, test_l1=0.0076\n",
      "[804] time=0.27, avg_loss=0.0001, train_err=0.0029, test_h1=0.0024, test_l2=0.0033, test_l1=0.0039\n",
      "[807] time=0.25, avg_loss=0.0001, train_err=0.0047, test_h1=0.0053, test_l2=0.0050, test_l1=0.0056\n",
      "[810] time=0.28, avg_loss=0.0000, train_err=0.0020, test_h1=0.0019, test_l2=0.0018, test_l1=0.0019\n",
      "[813] time=0.24, avg_loss=0.0001, train_err=0.0030, test_h1=0.0026, test_l2=0.0019, test_l1=0.0020\n",
      "[816] time=0.25, avg_loss=0.0001, train_err=0.0032, test_h1=0.0030, test_l2=0.0028, test_l1=0.0030\n",
      "[819] time=0.24, avg_loss=0.0000, train_err=0.0013, test_h1=0.0016, test_l2=0.0015, test_l1=0.0016\n",
      "[822] time=0.20, avg_loss=0.0000, train_err=0.0011, test_h1=0.0014, test_l2=0.0014, test_l1=0.0015\n",
      "[825] time=0.24, avg_loss=0.0000, train_err=0.0011, test_h1=0.0014, test_l2=0.0013, test_l1=0.0014\n",
      "[828] time=0.22, avg_loss=0.0000, train_err=0.0011, test_h1=0.0014, test_l2=0.0013, test_l1=0.0014\n",
      "[831] time=0.24, avg_loss=0.0000, train_err=0.0011, test_h1=0.0014, test_l2=0.0013, test_l1=0.0014\n",
      "[834] time=0.24, avg_loss=0.0000, train_err=0.0011, test_h1=0.0014, test_l2=0.0013, test_l1=0.0014\n",
      "[837] time=0.23, avg_loss=0.0000, train_err=0.0012, test_h1=0.0014, test_l2=0.0015, test_l1=0.0016\n",
      "[840] time=0.23, avg_loss=0.0000, train_err=0.0013, test_h1=0.0015, test_l2=0.0015, test_l1=0.0017\n",
      "[843] time=0.23, avg_loss=0.0000, train_err=0.0024, test_h1=0.0016, test_l2=0.0016, test_l1=0.0017\n",
      "[846] time=0.23, avg_loss=0.0000, train_err=0.0024, test_h1=0.0025, test_l2=0.0020, test_l1=0.0022\n",
      "[849] time=0.23, avg_loss=0.0000, train_err=0.0017, test_h1=0.0024, test_l2=0.0021, test_l1=0.0023\n",
      "[852] time=0.23, avg_loss=0.0001, train_err=0.0028, test_h1=0.0021, test_l2=0.0026, test_l1=0.0029\n",
      "[855] time=0.24, avg_loss=0.0000, train_err=0.0021, test_h1=0.0026, test_l2=0.0023, test_l1=0.0025\n",
      "[858] time=0.23, avg_loss=0.0001, train_err=0.0035, test_h1=0.0022, test_l2=0.0038, test_l1=0.0044\n",
      "[861] time=0.23, avg_loss=0.0001, train_err=0.0037, test_h1=0.0037, test_l2=0.0028, test_l1=0.0030\n",
      "[864] time=0.21, avg_loss=0.0001, train_err=0.0033, test_h1=0.0054, test_l2=0.0039, test_l1=0.0043\n",
      "[867] time=0.23, avg_loss=0.0001, train_err=0.0050, test_h1=0.0046, test_l2=0.0034, test_l1=0.0038\n",
      "[870] time=0.23, avg_loss=0.0000, train_err=0.0021, test_h1=0.0027, test_l2=0.0028, test_l1=0.0030\n",
      "[873] time=0.22, avg_loss=0.0001, train_err=0.0042, test_h1=0.0044, test_l2=0.0035, test_l1=0.0039\n",
      "[876] time=0.23, avg_loss=0.0000, train_err=0.0021, test_h1=0.0028, test_l2=0.0030, test_l1=0.0032\n",
      "[879] time=0.25, avg_loss=0.0000, train_err=0.0014, test_h1=0.0015, test_l2=0.0014, test_l1=0.0015\n",
      "[882] time=0.22, avg_loss=0.0000, train_err=0.0012, test_h1=0.0014, test_l2=0.0014, test_l1=0.0016\n",
      "[885] time=0.23, avg_loss=0.0000, train_err=0.0011, test_h1=0.0014, test_l2=0.0014, test_l1=0.0014\n",
      "[888] time=0.23, avg_loss=0.0000, train_err=0.0011, test_h1=0.0014, test_l2=0.0013, test_l1=0.0014\n",
      "[891] time=0.25, avg_loss=0.0000, train_err=0.0011, test_h1=0.0014, test_l2=0.0013, test_l1=0.0014\n",
      "[894] time=0.23, avg_loss=0.0000, train_err=0.0011, test_h1=0.0014, test_l2=0.0013, test_l1=0.0014\n",
      "[897] time=0.22, avg_loss=0.0000, train_err=0.0012, test_h1=0.0014, test_l2=0.0015, test_l1=0.0016\n",
      "[900] time=0.22, avg_loss=0.0000, train_err=0.0011, test_h1=0.0014, test_l2=0.0014, test_l1=0.0014\n",
      "[903] time=0.21, avg_loss=0.0000, train_err=0.0014, test_h1=0.0016, test_l2=0.0015, test_l1=0.0016\n",
      "[906] time=0.22, avg_loss=0.0001, train_err=0.0025, test_h1=0.0033, test_l2=0.0029, test_l1=0.0032\n",
      "[909] time=0.22, avg_loss=0.0001, train_err=0.0026, test_h1=0.0022, test_l2=0.0036, test_l1=0.0041\n",
      "[912] time=0.23, avg_loss=0.0001, train_err=0.0039, test_h1=0.0076, test_l2=0.0056, test_l1=0.0061\n",
      "[915] time=0.24, avg_loss=0.0001, train_err=0.0034, test_h1=0.0029, test_l2=0.0033, test_l1=0.0036\n",
      "[918] time=0.24, avg_loss=0.0001, train_err=0.0057, test_h1=0.0062, test_l2=0.0094, test_l1=0.0113\n",
      "[921] time=0.23, avg_loss=0.0001, train_err=0.0032, test_h1=0.0030, test_l2=0.0034, test_l1=0.0038\n",
      "[924] time=0.25, avg_loss=0.0001, train_err=0.0039, test_h1=0.0051, test_l2=0.0042, test_l1=0.0045\n",
      "[927] time=0.24, avg_loss=0.0001, train_err=0.0044, test_h1=0.0077, test_l2=0.0066, test_l1=0.0074\n",
      "[930] time=0.21, avg_loss=0.0001, train_err=0.0035, test_h1=0.0030, test_l2=0.0036, test_l1=0.0042\n",
      "[933] time=0.23, avg_loss=0.0000, train_err=0.0016, test_h1=0.0020, test_l2=0.0016, test_l1=0.0017\n",
      "[936] time=0.23, avg_loss=0.0000, train_err=0.0019, test_h1=0.0025, test_l2=0.0019, test_l1=0.0020\n",
      "[939] time=0.24, avg_loss=0.0000, train_err=0.0018, test_h1=0.0016, test_l2=0.0014, test_l1=0.0015\n",
      "[942] time=0.23, avg_loss=0.0000, train_err=0.0012, test_h1=0.0014, test_l2=0.0014, test_l1=0.0015\n",
      "[945] time=0.24, avg_loss=0.0000, train_err=0.0011, test_h1=0.0014, test_l2=0.0014, test_l1=0.0014\n",
      "[948] time=0.24, avg_loss=0.0000, train_err=0.0011, test_h1=0.0013, test_l2=0.0013, test_l1=0.0014\n",
      "[951] time=0.19, avg_loss=0.0000, train_err=0.0011, test_h1=0.0013, test_l2=0.0013, test_l1=0.0014\n",
      "[954] time=0.20, avg_loss=0.0000, train_err=0.0011, test_h1=0.0013, test_l2=0.0013, test_l1=0.0014\n",
      "[957] time=0.22, avg_loss=0.0000, train_err=0.0011, test_h1=0.0014, test_l2=0.0014, test_l1=0.0016\n",
      "[960] time=0.23, avg_loss=0.0000, train_err=0.0014, test_h1=0.0018, test_l2=0.0016, test_l1=0.0018\n",
      "[963] time=0.20, avg_loss=0.0000, train_err=0.0018, test_h1=0.0027, test_l2=0.0023, test_l1=0.0026\n",
      "[966] time=0.20, avg_loss=0.0001, train_err=0.0031, test_h1=0.0030, test_l2=0.0023, test_l1=0.0026\n",
      "[969] time=0.20, avg_loss=0.0001, train_err=0.0034, test_h1=0.0018, test_l2=0.0017, test_l1=0.0019\n",
      "[972] time=0.23, avg_loss=0.0001, train_err=0.0030, test_h1=0.0040, test_l2=0.0046, test_l1=0.0051\n",
      "[975] time=0.19, avg_loss=0.0001, train_err=0.0040, test_h1=0.0052, test_l2=0.0042, test_l1=0.0047\n",
      "[978] time=0.18, avg_loss=0.0000, train_err=0.0023, test_h1=0.0026, test_l2=0.0023, test_l1=0.0025\n",
      "[981] time=0.19, avg_loss=0.0001, train_err=0.0036, test_h1=0.0043, test_l2=0.0033, test_l1=0.0036\n",
      "[984] time=0.18, avg_loss=0.0001, train_err=0.0057, test_h1=0.0041, test_l2=0.0029, test_l1=0.0032\n",
      "[987] time=0.20, avg_loss=0.0001, train_err=0.0040, test_h1=0.0036, test_l2=0.0031, test_l1=0.0035\n",
      "[990] time=0.20, avg_loss=0.0001, train_err=0.0031, test_h1=0.0021, test_l2=0.0023, test_l1=0.0025\n",
      "[993] time=0.19, avg_loss=0.0001, train_err=0.0027, test_h1=0.0040, test_l2=0.0033, test_l1=0.0038\n",
      "[996] time=0.21, avg_loss=0.0000, train_err=0.0014, test_h1=0.0015, test_l2=0.0014, test_l1=0.0015\n",
      "[999] time=0.19, avg_loss=0.0000, train_err=0.0013, test_h1=0.0015, test_l2=0.0015, test_l1=0.0016\n"
     ]
    }
   ],
   "source": [
    "trainer.train(train_loader, test_loader,\n",
    "              None,\n",
    "              model, \n",
    "              optimizer,\n",
    "              scheduler, \n",
    "              regularizer=False, \n",
    "              training_loss=train_loss,\n",
    "              eval_losses=eval_losses)"
   ]
  },
  {
   "cell_type": "code",
   "execution_count": 49,
   "metadata": {},
   "outputs": [],
   "source": [
    "annealing = scheduler.state_dict()"
   ]
  },
  {
   "cell_type": "code",
   "execution_count": 29,
   "metadata": {},
   "outputs": [
    {
     "data": {
      "text/plain": [
       "<All keys matched successfully>"
      ]
     },
     "execution_count": 29,
     "metadata": {},
     "output_type": "execute_result"
    }
   ],
   "source": [
    "# torch.save(model.state_dict(), '2000epochs.txt')\n",
    "model.load_state_dict(torch.load('2000epochs.txt'))"
   ]
  },
  {
   "cell_type": "code",
   "execution_count": 19,
   "metadata": {},
   "outputs": [],
   "source": [
    "def MAE2(target,output):\n",
    "    # for numpy simple calculations\n",
    "    x = torch.Tensor(output)\n",
    "    y = torch.Tensor(target)\n",
    "    error = torch.squeeze(torch.abs(x - y))*(1/x.size(0))\n",
    "    error = torch.sum(error)\n",
    "                          \n",
    "    return error\n",
    "\n",
    "def l2(target, output): \n",
    "    x = torch.Tensor(output)\n",
    "    y = torch.Tensor(target)\n",
    "    error = torch.squeeze(torch.square(x - y))*(1/x.size(0))\n",
    "    error = torch.sum(error)\n",
    "                          \n",
    "    return error"
   ]
  },
  {
   "cell_type": "code",
   "execution_count": 30,
   "metadata": {},
   "outputs": [
    {
     "name": "stdout",
     "output_type": "stream",
     "text": [
      "tensor(0.0008)\n",
      "tensor(2.7614e-05)\n"
     ]
    }
   ],
   "source": [
    "MAE2error = 0\n",
    "l2error = 0\n",
    "test_samples = test_loader.dataset\n",
    "for data in test_samples: \n",
    "    x = data['x']\n",
    "    y = data['y']\n",
    "\n",
    "    out = model(x.unsqueeze(0))\n",
    "    \n",
    "    out = out.detach().numpy()[0][0]\n",
    "\n",
    "    out = np.reshape(out, -1)\n",
    "\n",
    "    y = y.detach().numpy()\n",
    "    y = np.reshape(y, -1)\n",
    "\n",
    "    MAE2error += MAE2(out, y)\n",
    "    l2error = l2(out, y)\n",
    "\n",
    "\n",
    "MAE2error = MAE2error / 200\n",
    "l2error = l2error / 200\n",
    "\n",
    "print(MAE2error)\n",
    "print(np.sqrt(l2error))\n"
   ]
  },
  {
   "cell_type": "code",
   "execution_count": 231,
   "metadata": {},
   "outputs": [],
   "source": [
    "ticklist = np.linspace(-1, 1, 4)\n",
    "ticklist = np.round(ticklist, 2)\n"
   ]
  },
  {
   "cell_type": "markdown",
   "metadata": {},
   "source": [
    "\n",
    "Plot the prediction, and compare with the ground-truth \n",
    "Note that we trained on a very small resolution for\n",
    "a very small number of epochs\n",
    "In practice, we would train at larger resolution, on many more samples.\n",
    "\n",
    "However, for practicity, we created a minimal example that\n",
    "i) fits in just a few Mb of memory\n",
    "ii) can be trained quickly on CPU\n",
    "\n",
    "In practice we would train a Neural Operator on one or multiple GPUs\n",
    "\n"
   ]
  },
  {
   "cell_type": "code",
   "execution_count": 62,
   "metadata": {
    "scrolled": true
   },
   "outputs": [
    {
     "data": {
      "image/png": "[encoded data removed]",
      "text/plain": [
       "<Figure size 864x864 with 9 Axes>"
      ]
     },
     "metadata": {
      "needs_background": "light"
     },
     "output_type": "display_data"
    }
   ],
   "source": [
    "test_samples = test_loader.dataset\n",
    "\n",
    "ticklist = np.linspace(-1, 1, 4)\n",
    "ticklist = np.round(ticklist, 2)\n",
    "\n",
    "\n",
    "fig = plt.figure(figsize=(12, 12))\n",
    "for index in range(3):\n",
    "    data = test_samples[index*60]\n",
    "    # Input x\n",
    "    x = data['x']\n",
    "    # Ground-truth\n",
    "    y = data['y']\n",
    "    # Model prediction\n",
    "    out = model(x.unsqueeze(0))\n",
    "\n",
    "    ax = fig.add_subplot(3, 3, 3*index+1)\n",
    "    plt.plot(x[0])\n",
    "    ax.set_title('Input beta')\n",
    "    plt.xticks(np.linspace(0, 200, 4),labels = ticklist)\n",
    "    \n",
    "    ax = fig.add_subplot(3, 3, index*3+2)\n",
    "    plt.plot(y.squeeze())\n",
    "    plt.plot(out.squeeze().detach().numpy())\n",
    "    ax.set_title('Ground Truth Committor')\n",
    "    plt.xticks(np.linspace(0, 200, 4),labels = ticklist)\n",
    "\n",
    "    ax = fig.add_subplot(3, 3, index*3 + 3)\n",
    "    plt.plot(out.squeeze().detach().numpy())\n",
    "    ax.set_title('FNO Committor')\n",
    "    plt.xticks(np.linspace(0, 200, 4),labels = ticklist)\n",
    "\n",
    "\n",
    "fig.suptitle('Inputs, ground-truth output and prediction.', y=0.98)\n",
    "plt.tight_layout()\n",
    "\n",
    "plt.savefig(\"1paramcommittor.pdf\")\n",
    "\n"
   ]
  },
  {
   "cell_type": "code",
   "execution_count": 29,
   "metadata": {},
   "outputs": [],
   "source": [
    "# train = train_loader.dataset\n",
    "\n",
    "# fig = plt.figure(figsize=(7, 7))\n",
    "\n",
    "# for index in range(3):\n",
    "\n",
    "#     data = train[index]\n",
    "#     # Input x\n",
    "#     x = data['x']\n",
    "#     # Ground-truth\n",
    "#     y = data['y']\n",
    "#     # Model prediction\n",
    "#     out = model(x.unsqueeze(0))\n",
    "\n",
    "#     ax = fig.add_subplot(3, 3, index*3 + 1)\n",
    "\n",
    "#     plt.plot(x[0])\n",
    "#     ax.set_title('Input x')\n",
    "#     plt.xticks(np.linspace(0, 2048, 4),labels = ticklist)\n",
    "    \n",
    "    \n",
    "#     ax = fig.add_subplot(3, 3, index*3 + 2)\n",
    "#     plt.plot(y.squeeze())\n",
    "#     ax.set_title('Ground Truth y')\n",
    "#     plt.xticks(np.linspace(0, 2048, 4),labels = ticklist)\n",
    "\n",
    "\n",
    "#     ax = fig.add_subplot(3, 3, index*3 + 3)\n",
    "#     plt.plot(out.squeeze().detach().numpy())\n",
    "#     ax.set_title('Predicted y')\n",
    "#     plt.xticks(np.linspace(0, 2048, 4),labels = ticklist)\n",
    "\n",
    "\n",
    "\n",
    "# fig.suptitle('Inputs, ground-truth output and prediction.', y=0.98)\n",
    "# plt.tight_layout()"
   ]
  },
  {
   "cell_type": "code",
   "execution_count": 30,
   "metadata": {},
   "outputs": [],
   "source": [
    "# grid = np.linspace(-np.pi, np.pi, 1600)\n",
    "# u0 = 1/(1+np.exp((10*grid)))\n",
    "# plt.plot(u0)\n"
   ]
  },
  {
   "cell_type": "code",
   "execution_count": 362,
   "metadata": {},
   "outputs": [],
   "source": [
    "dftestinput = pd.read_csv(\"backwardsvisinputstept1sigmoid.csv\", header = None)\n",
    "dftestoutput = pd.read_csv(\"backwardsvisoutputstept1sigmoid.csv\", header = None)\n",
    "\n",
    "\n",
    "dftestinput = pd.DataFrame.astype(dftestinput, 'float32')\n",
    "dftestoutput = pd.DataFrame.astype(dftestoutput, 'float32')\n"
   ]
  },
  {
   "cell_type": "code",
   "execution_count": 364,
   "metadata": {},
   "outputs": [],
   "source": [
    "#reversed sigmoid\n",
    "\n",
    "testinput = pd.DataFrame.to_numpy(dftestinput)\n",
    "\n",
    "testoutput = pd.DataFrame.to_numpy(dftestoutput)\n",
    "\n",
    "\n",
    "# split into input/output, test + train\n",
    "\n",
    "testinput = torch.from_numpy(testinput)\n",
    "testoutput= torch.from_numpy(testoutput)\n",
    "\n",
    "order = np.arange(len(testinput))\n",
    "np.random.shuffle(order)\n",
    "\n",
    "testinput = testinput[order]\n",
    "testoutput = testoutput[order]"
   ]
  },
  {
   "cell_type": "code",
   "execution_count": 367,
   "metadata": {},
   "outputs": [
    {
     "data": {
      "text/plain": [
       "[<matplotlib.lines.Line2D at 0x166e3eb4d00>]"
      ]
     },
     "execution_count": 367,
     "metadata": {},
     "output_type": "execute_result"
    },
    {
     "data": {
      "image/png": "[encoded data removed]",
      "text/plain": [
       "<Figure size 432x288 with 1 Axes>"
      ]
     },
     "metadata": {
      "needs_background": "light"
     },
     "output_type": "display_data"
    }
   ],
   "source": [
    "plt.plot(testinput[3])"
   ]
  },
  {
   "cell_type": "code",
   "execution_count": 368,
   "metadata": {},
   "outputs": [],
   "source": [
    "test_values = []\n",
    "\n",
    "# turn into dictionary\n",
    "\n",
    "for i in range(len(testinput)):\n",
    "    test_values.append({\"x\": testinput[i].unsqueeze(0), \"y\": testoutput[i].unsqueeze(0)})\n",
    "    \n",
    "# append grid?\n",
    "\n",
    "s = testinput.size(-1)\n",
    "\n",
    "grid = [0,1]\n",
    "grid1 = torch.linspace(grid[0], grid[1], s + 1)[0:-1].view(1,-1)\n",
    "grid2 = torch.zeros(1, s)\n",
    "\n",
    "samplegrid = torch.linspace(grid[0], grid[1], s)[0:-1].view(1,-1)\n",
    "\n",
    "count = 0\n",
    "subcount = 0\n",
    "for i in range(s):\n",
    "    if i % 2 == 0: \n",
    "        grid2[:,i] = samplegrid[:, subcount]\n",
    "    else:\n",
    "        grid2[:,i] = samplegrid[:, subcount ]\n",
    "        subcount += 1\n",
    "    \n",
    "\n",
    "\n",
    "\n",
    "    "
   ]
  },
  {
   "cell_type": "code",
   "execution_count": 369,
   "metadata": {},
   "outputs": [],
   "source": [
    "\n",
    "#use different resolution grid later?\n",
    "\n",
    "\n",
    "for i in range(len(test_values)):\n",
    "    test_values[i][\"x\"] = torch.stack([test_values[i][\"x\"], grid1, grid2])\n",
    "#     trainn[i][\"y\"] = trainn[i][\"y\"].unsqueeze(1)\n",
    "\n",
    "\n",
    "    test_values[i][\"x\"] = test_values[i][\"x\"].squeeze()\n",
    "#     trainn[i][\"y\"] = trainn[i][\"y\"].squeeze()\n",
    "\n",
    "\n",
    "    \n",
    "#1, 1 works here\n",
    "    \n",
    "batch_train = 16\n",
    "batch_test = 16\n",
    "\n",
    "# load data\n",
    "\n",
    "    \n",
    "test_values_loader = torch.utils.data.DataLoader(test_values, batch_size=batch_train, shuffle=False)"
   ]
  },
  {
   "cell_type": "code",
   "execution_count": 374,
   "metadata": {},
   "outputs": [
    {
     "data": {
      "image/png": "[encoded data removed]",
      "text/plain": [
       "<Figure size 504x504 with 9 Axes>"
      ]
     },
     "metadata": {
      "needs_background": "light"
     },
     "output_type": "display_data"
    }
   ],
   "source": [
    "test_values_sample = test_values_loader.dataset\n",
    "\n",
    "fig = plt.figure(figsize=(7, 7))\n",
    "\n",
    "for index in range(3):\n",
    "    data = test_values_sample[index]\n",
    "    # Input x\n",
    "    x = data['x']\n",
    "    # Ground-truth\n",
    "    y = data['y']\n",
    "    # Model prediction\n",
    "    out = model(x.unsqueeze(0))\n",
    "\n",
    "    ax = fig.add_subplot(3, 3, index*3 + 1)\n",
    "\n",
    "    plt.plot(x[0])\n",
    "    ax.set_title('Input x')\n",
    "    plt.xticks(np.linspace(0, 1600, 4),labels = ticklist)\n",
    "    \n",
    "    \n",
    "    ax = fig.add_subplot(3, 3, index*3 + 2)\n",
    "    plt.plot(y.squeeze())\n",
    "    ax.set_title('Ground Truth y')\n",
    "    plt.xticks(np.linspace(0, 1600, 4),labels = ticklist)\n",
    "\n",
    "\n",
    "    ax = fig.add_subplot(3, 3, index*3 + 3)\n",
    "    plt.plot(out.squeeze().detach().numpy())\n",
    "    ax.set_title('Predicted y')\n",
    "    plt.xticks(np.linspace(0, 1600, 4),labels = ticklist)\n",
    "\n",
    "\n",
    "\n",
    "fig.suptitle('Inputs, ground-truth output and prediction.', y=0.98)\n",
    "plt.tight_layout()"
   ]
  }
 ],
 "metadata": {
  "kernelspec": {
   "display_name": "Python 3 (ipykernel)",
   "language": "python",
   "name": "python3"
  },
  "language_info": {
   "codemirror_mode": {
    "name": "ipython",
    "version": 3
   },
   "file_extension": ".py",
   "mimetype": "text/x-python",
   "name": "python",
   "nbconvert_exporter": "python",
   "pygments_lexer": "ipython3",
   "version": "3.9.7"
  }
 },
 "nbformat": 4,
 "nbformat_minor": 1
}
